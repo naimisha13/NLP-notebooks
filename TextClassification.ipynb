{
 "cells": [
  {
   "cell_type": "markdown",
   "metadata": {},
   "source": [
    "# Text Classification \n",
    "\n",
    "In this assignment, you will:\n",
    "\n",
    "1. Propose a custom text classification task and create a corpus of documents that are labeled for this task.\n",
    "\n",
    "2. Propose discriminative features to be included in the feature vector representation for a document and evaluate their utility by training and testing Logistic Regression models."
   ]
  },
  {
   "cell_type": "markdown",
   "metadata": {},
   "source": [
    "## Write Your Name Here: Shreyas Lokesha\n",
    "##### UNC-Id: 801210964\n",
    "##### e-mail: slokesha@uncc.edu"
   ]
  },
  {
   "cell_type": "markdown",
   "metadata": {},
   "source": [
    "# <font color=\"blue\"> Submission Instructions</font>\n",
    "\n",
    "1. Click the Save button at the top of the Jupyter Notebook.\n",
    "2. Please make sure to have entered your name above.\n",
    "3. Select Cell -> All Output -> Clear. This will clear all the outputs from all cells (but will keep the content of ll cells). \n",
    "4. Select Cell -> Run All. This will run all the cells in order, and will take several minutes.\n",
    "5. Once you've rerun everything, select File -> Download as -> PDF via LaTeX and download a PDF version *.pdf* showing the code and the output of all cells, and save it in the same folder that contains the notebook file *.ipynb*.\n",
    "6. Look at the PDF file and make sure all your solutions are there, displayed correctly. The PDF is the only thing we will see when grading!\n",
    "7. Submit **both** your PDF and notebook on Canvas."
   ]
  },
  {
   "cell_type": "markdown",
   "metadata": {},
   "source": [
    "## Corpus acquisition and formatting\n",
    "\n",
    "1. Find at least 300 documents for some topic that interests you, along with a single label for each document.\n",
    "\n",
    "\t- The more data in your collection, the better your classification models will tend to perform on it.\n",
    "    \n",
    "\n",
    "2. Partition your data into three files train.txt, dev.txt and test.txt, with training containing 80% of the documents, development 10% and test 10%.\n",
    "\n",
    "\n",
    "3. All of the data must be in a common format:\n",
    "\n",
    "    - One example per line, using the format \"\\<label\\> \\<text\\>\", i.e. the line starts with the label, followed by a white space, followed by the text of the document.\n",
    "    - Replace all newlines in the text with \\<NEWLINE\\> and tab characters with \\<TAB\\>.\n",
    "    - See corpus under *data/sentiment/* for examples.\n",
    "    \n",
    "    \n",
    "4. Your choice of documents and labels is completely up to you. Possible sources of data:\n",
    "\n",
    "    - **Project Gutenberg**: Metadata is available at this <a href=\"https://github.com/hugovk/gutenberg-metadata\">Github repo</a> along with URLs for the texts. Labels here can be author, subject, genre, etc.\n",
    "\t- **News articles**: Crawl news articles from different domains (e.g,. CNN, FoxNews); the label for each article is the domain.\n",
    "\t- **Movie summaries**: Labels here can be any categorical metadata aspect (genre, release date); note real-valued metadata (like box office, runtime) can be discretized by selecting some reasonable thresholds.\n",
    "\t- **Tweets**: Download your own tweets. Labels here can be any categorical metadata included in the tweet, or labels you add by hand (e.g., sarcasm).\n",
    "    \n",
    "    \n",
    "5. Additional requirements:\n",
    "\n",
    "    - No sentiment classification.\n",
    "    - **Undergraduate students**: It is acceptable to use an existing dataset, e.g. from kaggle.com or other repositories. However, it is preferable that you create your own dataset.\n",
    "    - **Graduate students**: It is important that you create your own dataset. This can also serve as the basis for your project, if you choose to work on text classification for it.\n"
   ]
  },
  {
   "cell_type": "markdown",
   "metadata": {},
   "source": [
    "### Task and Dataset description\n",
    "\n",
    "Describe your data. What is the source of the documents, and what do the labels mean?"
   ]
  },
  {
   "cell_type": "markdown",
   "metadata": {},
   "source": [
    "// YOUR CONTRIBUTION HERE <br>\n",
    "The dataset compiled consists of iconic movie dialogues from Marvel and DC movies along with the labels.<br>\n",
    "The labels used in the dataset are Marvel and DC and we have around 320 movie dialogues each from famous Marvel and DC movies.<br>\n",
    "The name of the movie is also present as a text in the dataset marked within '\\[' and '\\]' symbols.<br>\n",
    "Using this dataset, we perform text classification. <br>\n",
    "The goal of this text classification excercise is to predict whether the movie dialogues are from Marvel or DC movies.<br>\n",
    "Sources of data: rotten tomatoes website\n",
    "\n"
   ]
  },
  {
   "cell_type": "markdown",
   "metadata": {},
   "source": [
    "### Dataset reading and statistics\n",
    "\n",
    "Change the path to match the directory containing your data and execute the *read_examples()* function below."
   ]
  },
  {
   "cell_type": "code",
   "execution_count": 104,
   "metadata": {},
   "outputs": [
    {
     "name": "stdout",
     "output_type": "stream",
     "text": [
      "Training examples: {'Marvel': 128, 'DC': 128}\n",
      "Development examples: {'Marvel': 16, 'DC': 16}\n",
      "Test examples: {'Marvel': 16, 'DC': 16}\n"
     ]
    }
   ],
   "source": [
    "import os\n",
    "\n",
    "def read_examples(filename):\n",
    "    X = []\n",
    "    Y = []\n",
    "    with open(filename, mode = 'r',encoding = 'utf-8') as file:\n",
    "        for line in file:\n",
    "            [label, text] = line.rstrip().split(' ', maxsplit = 1)\n",
    "            X.append(text)\n",
    "            Y.append(label)\n",
    "            \n",
    "    return X, Y\n",
    "\n",
    "def label_counts(Y):\n",
    "    labels = {}\n",
    "    for l in Y:\n",
    "        if l in labels:\n",
    "            labels[l] += 1\n",
    "        else:\n",
    "            labels[l] = 1\n",
    "\n",
    "    return labels\n",
    "\n",
    "\n",
    "datapath = \"../data/MarvelDCClassifier/\"\n",
    "\n",
    "train_file = os.path.join(datapath, 'train.txt')\n",
    "trainX, trainY = read_examples(train_file)\n",
    "print(\"Training examples:\", label_counts(trainY))\n",
    "\n",
    "dev_file = os.path.join(datapath, 'dev.txt')\n",
    "devX, devY = read_examples(dev_file)\n",
    "print(\"Development examples:\", label_counts(devY))\n",
    "\n",
    "\n",
    "test_file = os.path.join(datapath, 'test.txt')\n",
    "testX, testY = read_examples(test_file)\n",
    "print(\"Test examples:\", label_counts(testY))"
   ]
  },
  {
   "cell_type": "code",
   "execution_count": null,
   "metadata": {},
   "outputs": [],
   "source": []
  },
  {
   "cell_type": "markdown",
   "metadata": {},
   "source": [
    "### From documents to feature vectors\n",
    "This section illustratess the prototypical components of machine learning pipeline for an NLP task, in this case document classification:\n",
    "\n",
    "1. Read document examples (train, devel, test) from files with a predefined format:\n",
    "    - assume one document per line, using the format \"\\<label\\> \\<text\\>\".\n",
    "\n",
    "2. Tokenize each document:\n",
    "    - using a spaCy tokenizer.\n",
    "\n",
    "3. Feature extractors:\n",
    "    - so far, just words.\n",
    "\n",
    "4. Process each document into a feature vector:\n",
    "    - map document to a dictionary of feature names.\n",
    "    - map feature names to unique feature IDs.\n",
    "    - each document is a feature vector, where each feature ID is mapped to a feature value (e.g. word occurences)."
   ]
  },
  {
   "cell_type": "code",
   "execution_count": 53,
   "metadata": {},
   "outputs": [],
   "source": [
    "import spacy\n",
    "from spacy.lang.en import English\n",
    "from scipy import sparse\n",
    "from sklearn.naive_bayes import MultinomialNB\n",
    "from sklearn.linear_model import LogisticRegression"
   ]
  },
  {
   "cell_type": "code",
   "execution_count": 54,
   "metadata": {},
   "outputs": [],
   "source": [
    "# Create spaCy tokenizer.\n",
    "spacy_nlp = English()\n",
    "\n",
    "def spacy_tokenizer(text):\n",
    "    tokens = spacy_nlp.tokenizer(text)\n",
    "    \n",
    "    return [token.text for token in tokens]"
   ]
  },
  {
   "cell_type": "code",
   "execution_count": 55,
   "metadata": {},
   "outputs": [],
   "source": [
    "def read_examples(filename):\n",
    "    X = []\n",
    "    Y = []\n",
    "    with open(filename, mode = 'r') as file:\n",
    "        for line in file:\n",
    "            [label, text] = line.rstrip().split(' ', maxsplit = 1)\n",
    "            X.append(text)\n",
    "            Y.append(label)\n",
    "    return X, Y"
   ]
  },
  {
   "cell_type": "code",
   "execution_count": 56,
   "metadata": {},
   "outputs": [],
   "source": [
    "def word_features(tokens):\n",
    "    feats = {}\n",
    "    for word in tokens:\n",
    "        feat = 'WORD_%s' % word\n",
    "        if feat in feats:\n",
    "            feats[feat] +=1\n",
    "        else:\n",
    "            feats[feat] = 1\n",
    "    return feats"
   ]
  },
  {
   "cell_type": "code",
   "execution_count": 57,
   "metadata": {},
   "outputs": [],
   "source": [
    "def add_features(feats, new_feats):\n",
    "    for feat in new_feats:\n",
    "        if feat in feats:\n",
    "            feats[feat] += new_feats[feat]\n",
    "        else:\n",
    "            feats[feat] = new_feats[feat]\n",
    "    return feats"
   ]
  },
  {
   "cell_type": "markdown",
   "metadata": {},
   "source": [
    "This function tokenizes the document, runs all the feature extractors on it and assembles the extracted features into a dictionary mapping feature names to feature values. It is important that feature names do not conflict with each other, i.e. different features should have different names. Each document will have its own dictionary of features and their values."
   ]
  },
  {
   "cell_type": "code",
   "execution_count": 58,
   "metadata": {},
   "outputs": [],
   "source": [
    "def docs2features(trainX, feature_functions, tokenizer):\n",
    "    examples = []\n",
    "    count = 0\n",
    "    for doc in trainX:\n",
    "        feats = {}\n",
    "\n",
    "        tokens = tokenizer(doc)\n",
    "        \n",
    "        for func in feature_functions:\n",
    "            add_features(feats, func(tokens))\n",
    "\n",
    "        examples.append(feats)\n",
    "        count +=1\n",
    "        \n",
    "        if count % 100 == 0:\n",
    "            print('Processed %d examples into features' % len(examples))\n",
    "    \n",
    "    return examples"
   ]
  },
  {
   "cell_type": "code",
   "execution_count": 8,
   "metadata": {},
   "outputs": [],
   "source": [
    "# This helper function converts feature names to unique numerical IDs.\n",
    "\n",
    "def create_vocab(examples):\n",
    "    feature_vocab = {}\n",
    "    idx = 0\n",
    "    for example in examples:\n",
    "        for feat in example:\n",
    "            if feat not in feature_vocab:\n",
    "                feature_vocab[feat] = idx\n",
    "                idx += 1\n",
    "                \n",
    "    return feature_vocab"
   ]
  },
  {
   "cell_type": "code",
   "execution_count": 59,
   "metadata": {},
   "outputs": [],
   "source": [
    "# This helper function converts a set of examples from a dictionary of feature names to values representation\n",
    "# to a sparse representation of feature ids to values. This is important because almost all feature values will\n",
    "# be 0 for most documents and it would be wasteful to save all in memory.\n",
    "\n",
    "def features_to_ids(examples, feature_vocab):\n",
    "    new_examples = sparse.lil_matrix((len(examples), len(feature_vocab)))\n",
    "    for idx, example in enumerate(examples):\n",
    "        for feat in example:\n",
    "            if feat in feature_vocab:\n",
    "                new_examples[idx, feature_vocab[feat]] = example[feat]\n",
    "                \n",
    "    return new_examples"
   ]
  },
  {
   "cell_type": "code",
   "execution_count": 60,
   "metadata": {},
   "outputs": [],
   "source": [
    "# Evaluation pipeline for the Logistic Regression classifier.\n",
    "\n",
    "def train_and_test(trainX, trainY, devX, devY, feature_functions, tokenizer):\n",
    "    # Pre-process training documents. \n",
    "    trainX_feat = docs2features(trainX, feature_functions, tokenizer)\n",
    "\n",
    "    # Create vocabulary from features in training examples.\n",
    "    feature_vocab = create_vocab(trainX_feat)\n",
    "    print('Vocabulary size: %d' % len(feature_vocab))\n",
    "\n",
    "    trainX_ids = features_to_ids(trainX_feat, feature_vocab)\n",
    "    \n",
    "    # Train LR model.\n",
    "    lr_model = LogisticRegression(penalty = 'l2', C = 1.0, solver = 'lbfgs', max_iter = 1000)\n",
    "    lr_model.fit(trainX_ids, trainY)\n",
    "    \n",
    "    # Pre-process test documents. \n",
    "    devX_feat = docs2features(devX, feature_functions, tokenizer)\n",
    "    devX_ids = features_to_ids(devX_feat, feature_vocab)\n",
    "    \n",
    "    # Test LR model.\n",
    "    print('Accuracy: %.3f' % lr_model.score(devX_ids, devY))"
   ]
  },
  {
   "cell_type": "code",
   "execution_count": null,
   "metadata": {},
   "outputs": [],
   "source": []
  },
  {
   "cell_type": "markdown",
   "metadata": {},
   "source": [
    "### Feature engineering\n",
    "\n",
    "Create two new feature functions, and include them in the *features* list.\n",
    "\n",
    "- A passing grade will be given to generic features that apply across arbitrary text classification problems (e.g., a feature for bigrams);\n",
    "\n",
    "- A better grade will be given for features that reveal your own understanding of your data. What features do you think will help for your particular problem? Would features based on higher level NLP processing tasks (anmed entity recognition, syntactic parsing, coreference resolution) be useful? Your grade is not tied to whether accuracy goes up or down, so be creative!\n",
    "\n",
    "- You are free to read in any other external resources you like (dictionaries, document metadata, etc.)"
   ]
  },
  {
   "cell_type": "code",
   "execution_count": 100,
   "metadata": {},
   "outputs": [],
   "source": [
    "def DCMarvel_Lexicon_extract(tokens):\n",
    "    DC_Lexicon_set = set(('alfred','amazons','aquaman','arthur','arthur aurry','atlan','atlanna','atlantis','atlanteans','bat','batman','barry','barry allen','bruce wayne','clark','clark kent','codex','diana','deadshot','floyd lawton',\n",
    "                         'darksiede','doomsday','dent','enigma','enchantress','faora','gotham','harley quinn','harvey','harvey dent','joker','jor-el','kal','kal-el','krypton','kryptonite','kryptonian','lex','luthor','lois','lois lane','martha','ocean master','orm','parademons','steppenwolf','superman',\n",
    "                         'trevor','two-face','wayne','zod'))\n",
    "    Marvel_Lexicon_set = set(('agent','asgard','asgardian','askervarian','avenger','avengers','bifrost','bucky','cap','captain','chitauri','coulson','dormammu','eytri','fandral','frigga','gamora','groot','hank','hulk','hydra','jarvis','jane','jotunheim','knowhere','loki',\n",
    "                             'odin','panther','parker','pepper','peter','phil','pym','quill','rocket','shield','sif','steve','stark','strange','spider','tesseract','thanos','thor'))\n",
    "    lex_feat = {}\n",
    "    for item in tokens:\n",
    "        tempStore = item.lower()\n",
    "        if(tempStore in DC_Lexicon_set):\n",
    "            entry = \"DCLex_\"+str(item)\n",
    "            if(entry not in lex_feat):\n",
    "                lex_feat[entry] = 1\n",
    "            else:\n",
    "                lex_feat[entry] += 1\n",
    "        if(tempStore in Marvel_Lexicon_set):\n",
    "            entry = \"MarvelLex_\"+str(item)\n",
    "            if(entry not in lex_feat):\n",
    "                lex_feat[entry] = 1\n",
    "            else:\n",
    "                lex_feat[entry] += 1\n",
    "                \n",
    "    return lex_feat\n",
    "            "
   ]
  },
  {
   "cell_type": "code",
   "execution_count": 101,
   "metadata": {},
   "outputs": [],
   "source": [
    "def DCMarvel_MovieName_Lex(tokens):\n",
    "    DC_Movies = set(('aquaman','batman begins','batman v superman: dawn of justice','justice league','man of steel','suicide squad','the dark knight','the dark knight rises','wonder woman'))\n",
    "    Marvel_Movies = set(('ant-man','ant-man and the wasp','avengers: age of ultron','avengers:infinity war','avengers:endgame','captain america:the first avenger',\n",
    "                         'captain america:the winter soldier','captain america: civil war','doctor strange','guardians of the galaxy','iron man','iron man 2','the avengers','the incredible hulk','thor','thor:the dark world'\n",
    "                         ,'thor:ragnarok'))\n",
    "    \n",
    "    feat_movies = {'DC_Mov':0,'Marvel_Mov':0}\n",
    "    movie_name = ''\n",
    "    index = 0\n",
    "    dc_mov_count = 0\n",
    "    marvel_mov_count = 0\n",
    "    stg = ''\n",
    "    for item in tokens:\n",
    "        if('[' in item):\n",
    "            index = tokens.index(item)\n",
    "            subIndex = item.index('[')\n",
    "            stg = stg + item[subIndex+1:]\n",
    "            if(tokens[index] != ']'):\n",
    "                index = index + 1\n",
    "                movie_name = movie_name + stg + \" \" + tokens[index]+\" \"\n",
    "                \n",
    "    dc_match = False\n",
    "    marvel_match = False\n",
    "    preprocessStg = movie_name.lower().rstrip()\n",
    "    for movie in DC_Movies:\n",
    "        if(movie == preprocessStg):\n",
    "            dc_match = True\n",
    "            feat_movies['DC_Mov'] += 1\n",
    "    \n",
    "    for movie in Marvel_Movies:\n",
    "        if(movie == preprocessStg):\n",
    "            marvel_match = True\n",
    "            feat_movies['Marvel_Mov'] += 1\n",
    "    \n",
    "    \n",
    "               \n",
    "    return feat_movies\n",
    "    \n"
   ]
  },
  {
   "cell_type": "markdown",
   "metadata": {},
   "source": [
    "Evaluate the impact of your features by training and testing with and without each feature."
   ]
  },
  {
   "cell_type": "code",
   "execution_count": 126,
   "metadata": {},
   "outputs": [
    {
     "name": "stdout",
     "output_type": "stream",
     "text": [
      "Processed 100 examples into features\n",
      "Processed 200 examples into features\n",
      "Vocabulary size: 1500\n",
      "Accuracy: 0.875\n"
     ]
    }
   ],
   "source": [
    "import os\n",
    "\n",
    "datapath = '../data/MarvelDCClassifier'\n",
    "\n",
    "train_file = os.path.join(datapath, 'Train.txt')\n",
    "trainX, trainY = read_examples(train_file)\n",
    "\n",
    "dev_file = os.path.join(datapath, 'Dev.txt')\n",
    "devX, devY = read_examples(dev_file)\n",
    "\n",
    "# Specify features to use. Do this multiple times, with and without the new features\n",
    "features = [word_features,DCMarvel_MovieName_Lex]\n",
    "\n",
    "# Evaluate LR model.\n",
    "train_and_test(trainX, trainY, devX, devY, features, spacy_tokenizer)"
   ]
  },
  {
   "cell_type": "markdown",
   "metadata": {},
   "source": [
    "## Plot ROC Curve\n",
    "\n",
    "*Mandatory for graduate students, optional for undergraduate students.*\n",
    "\n",
    "Take your best classifier and plot a <a href=\"https://en.wikipedia.org/wiki/Receiver_operating_characteristic\">Receiver Operating Characteristic (ROC)</a> curve by varying a threshold on the probabilistic output. You can use the <a href=\"https://scikit-learn.org/stable/auto_examples/model_selection/plot_roc.html\">sklearn implementation</a>, or implement your own."
   ]
  },
  {
   "cell_type": "code",
   "execution_count": 127,
   "metadata": {},
   "outputs": [
    {
     "name": "stdout",
     "output_type": "stream",
     "text": [
      "Processed 100 examples into features\n",
      "Processed 200 examples into features\n",
      "Accuracy: 0.875\n"
     ]
    },
    {
     "data": {
      "image/png": "[encoded data removed]",
      "text/plain": [
       "<Figure size 432x288 with 1 Axes>"
      ]
     },
     "metadata": {
      "needs_background": "light"
     },
     "output_type": "display_data"
    }
   ],
   "source": [
    "# YOUR CODE HERE\n",
    "from sklearn import metrics\n",
    "import matplotlib.pyplot as plt\n",
    "from sklearn.metrics import roc_curve,auc\n",
    "from sklearn.model_selection import train_test_split\n",
    "from sklearn.metrics import roc_auc_score\n",
    "\n",
    "train_file = os.path.join(datapath, 'Train.txt')\n",
    "trainX, trainY = read_examples(train_file)\n",
    "dev_file = os.path.join(datapath, 'Dev.txt')\n",
    "devX, devY = read_examples(dev_file)\n",
    "feature_functions = [word_features,DCMarvel_Lexicon_extract]\n",
    "trainX_feat = docs2features(trainX, feature_functions, spacy_tokenizer)\n",
    "feature_vocab = create_vocab(trainX_feat)\n",
    "trainX_ids = features_to_ids(trainX_feat, feature_vocab)\n",
    "lr_model = LogisticRegression(penalty = 'l2', C = 1.0, solver = 'lbfgs', max_iter = 1000)\n",
    "lr_model.fit(trainX_ids, trainY)\n",
    "devX_feat = docs2features(devX, feature_functions, spacy_tokenizer)\n",
    "devX_ids = features_to_ids(devX_feat, feature_vocab)\n",
    "print('Accuracy: %.3f' % lr_model.score(devX_ids, devY))\n",
    "lr_probability = lr_model.predict_proba(devX_ids)[:,1]\n",
    "devY_class = []\n",
    "for item in devY:\n",
    "    if(item == 'DC'):\n",
    "        devY_class.append(0)\n",
    "    else:\n",
    "        devY_class.append(1)\n",
    "        \n",
    "fpr,tpr,threshold = roc_curve(devY_class,lr_probability)\n",
    "\n",
    "plt.plot([0,1],[0,1],\"k--\")\n",
    "plt.plot(fpr,tpr,color=\"blue\")\n",
    "plt.xlabel('False Positive')\n",
    "plt.ylabel('True Positive')\n",
    "plt.show()"
   ]
  },
  {
   "cell_type": "markdown",
   "metadata": {},
   "source": [
    "## Bonus points ##\n",
    "\n",
    "Anything extra goes here.\n"
   ]
  },
  {
   "cell_type": "code",
   "execution_count": 123,
   "metadata": {},
   "outputs": [
    {
     "name": "stdout",
     "output_type": "stream",
     "text": [
      "Processed 100 examples into features\n",
      "Processed 200 examples into features\n",
      "Vocabulary size: 1500\n",
      "Accuracy: 0.938\n"
     ]
    }
   ],
   "source": [
    "def DCMarvel_Lex_counter(tokens):\n",
    "    DC_Lexicon_set = set(('alfred','amazons','aquaman','arthur','arthur aurry','atlan','atlanna','atlantis','atlanteans','bat','batman','barry','barry allen','bruce wayne','clark','clark kent','codex','diana','deadshot','floyd lawton',\n",
    "                         'darksiede','doomsday','dent','enigma','enchantress','faora','gotham','harley quinn','harvey','harvey dent','joker','jor-el','kal','kal-el','krypton','kryptonite','kryptonian','lex','luthor','lois','lois lane','martha','ocean master','orm','parademons','steppenwolf','superman',\n",
    "                         'trevor','two-face','wayne','zod'))\n",
    "    Marvel_Lexicon_set = set(('agent','asgard','asgardian','askervarian','avenger','avengers','bifrost','bucky','cap','captain','chitauri','coulson','dormammu','eytri','fandral','frigga','gamora','groot','hank','hulk','hydra','jarvis','jane','jotunheim','knowhere','loki',\n",
    "                             'odin','panther','parker','pepper','peter','phil','pym','quill','rocket','shield','sif','steve','stark','strange','spider','tesseract','thanos','thor'))\n",
    "    \n",
    "    feat_DCMCounter = {\"DC_Lex_count\":0,\"Marvel_Lex_count\": 0}\n",
    "   \n",
    "    for item in tokens:\n",
    "        if(item.lower() in DC_Lexicon_set):\n",
    "            feat_DCMCounter[\"DC_Lex_count\"] += 1\n",
    "        elif(item.lower() in Marvel_Lexicon_set):\n",
    "            feat_DCMCounter[\"Marvel_Lex_count\"] += 1\n",
    "    \n",
    "    return feat_DCMCounter\n",
    "\n",
    "\n",
    "import os\n",
    "\n",
    "datapath = '../data/MarvelDCClassifier'\n",
    "train_file = os.path.join(datapath, 'Train.txt')\n",
    "trainX, trainY = read_examples(train_file)\n",
    "\n",
    "dev_file = os.path.join(datapath, 'Dev.txt')\n",
    "devX, devY = read_examples(dev_file)\n",
    "\n",
    "# Specify features to use. Do this multiple times, with and without the new features\n",
    "features = [word_features,DCMarvel_Lex_counter]\n",
    "\n",
    "# Evaluate LR model.\n",
    "train_and_test(trainX, trainY, devX, devY, features, spacy_tokenizer)     \n",
    "    "
   ]
  },
  {
   "cell_type": "markdown",
   "metadata": {},
   "source": [
    "## Analysis ##\n",
    "Include an analysis of the results that you obtained in the experiments above."
   ]
  }
 ],
 "metadata": {
  "kernelspec": {
   "display_name": "Python 3 (ipykernel)",
   "language": "python",
   "name": "python3"
  },
  "language_info": {
   "codemirror_mode": {
    "name": "ipython",
    "version": 3
   },
   "file_extension": ".py",
   "mimetype": "text/x-python",
   "name": "python",
   "nbconvert_exporter": "python",
   "pygments_lexer": "ipython3",
   "version": "3.7.9"
  }
 },
 "nbformat": 4,
 "nbformat_minor": 4
}
