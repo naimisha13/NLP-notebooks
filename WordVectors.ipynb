{
 "cells": [
  {
   "cell_type": "markdown",
   "metadata": {},
   "source": [
    "## Word Vectors\n",
    "\n",
    "This assignment is comprised of two parts:\n",
    "\n",
    "1. **Theory**: Solve two exercises about logistic regression and softmax regression. Prove that using sums of word vectors as phrase embeddings is problematic.\n",
    "2. **Implementation**: You will  experiment with sparse and dense vector representations of words.\n",
    "\n",
    "\n",
    "Word Vectors are often used as a fundamental component for downstream NLP tasks, e.g. question answering, text generation, translation, etc., so it is important to build some intuitions as to their strengths and weaknesses. Here, you will explore two types of word vectors:\n",
    "\n",
    "- those derived from *co-occurrence matrices*, and \n",
    "\n",
    "- those derived via *word2vec*. \n",
    "\n",
    "**Note on Terminology:** The terms \"word vectors\" and \"word embeddings\" are often used interchangeably. The term \"embedding\" refers to the fact that we are encoding aspects of a word's meaning in a lower dimensional space. As [Wikipedia](https://en.wikipedia.org/wiki/Word_embedding) states, \"*conceptually it involves a mathematical embedding from a space with one dimension per word to a continuous vector space with a much lower dimension*\".\n",
    "\n",
    "Before getting started with the implementation, install the gensim library:\n",
    "\n",
    "```sh\n",
    "conda install gensim\n",
    "```\n",
    "\n",
    "To be able to download the large word2vec embeddings file, you may need to run Jupyter Notebook with the following command line option:\n",
    "  `jupyter notebook --NotebookApp.iopub_msg_rate_limit=1.0e10`"
   ]
  },
  {
   "cell_type": "markdown",
   "metadata": {},
   "source": [
    "## Write Your Name Here: Shreyas Lokesha\n",
    "##### UNC-Id: 801210964"
   ]
  },
  {
   "cell_type": "markdown",
   "metadata": {},
   "source": [
    "# <font color=\"blue\"> Submission Instructions</font>\n",
    "\n",
    "1. Click the Save button at the top of the Jupyter Notebook.\n",
    "2. Please make sure to have entered your name above.\n",
    "3. Select Cell -> All Output -> Clear. This will clear all the outputs from all cells (but will keep the content of ll cells). \n",
    "4. Select Cell -> Run All. This will run all the cells in order, and will take several minutes.\n",
    "5. Once you've rerun everything, select File -> Download as -> PDF via LaTeX and download a .pdf version showing the code and the output of all cells, and save it in the same folder that contains the notebook file .ipynb.\n",
    "6. Look at the PDF file and make sure all your solutions are there, displayed correctly. The PDF is the only thing we will see when grading!\n",
    "7. Submit **both** your PDF and notebook on Canvas."
   ]
  },
  {
   "cell_type": "markdown",
   "metadata": {},
   "source": [
    "# Theory"
   ]
  },
  {
   "cell_type": "markdown",
   "metadata": {},
   "source": [
    "## Theory (4111 & 5111): Properties of cosine similarity\n",
    "\n",
    "1. Prove that doubling the length of a vector $\\mathbf{u}$ does not change its cosine similarity with any other vector $\\mathbf{v}$, i.e. prove that $cos(2\\mathbf{u}, \\mathbf{v}) = cos(\\mathbf{u}, \\mathbf{v})$.\n",
    "2. Could the cosine similarity be negative when using $tf.idf$ vector representations? Explain your answer.\n",
    "3. Could the cosine similarity be negative when using prediction-based, dense vector representations? Explain your answer."
   ]
  },
  {
   "cell_type": "markdown",
   "metadata": {},
   "source": [
    "YOUR ANSWERS go here ...\n",
    "1. cosine similarity is defined as <br>\n",
    "$$ cos(u,v) = u.v/(|u||v|) = \\sum_{i=0}^N ui . \\sum_{i=0}^N vi/\\sqrt\\sum_{i=0}^N ui \\sqrt\\sum_{i=0}^N vi $$<br>\n",
    "Similarly, <br>\n",
    "$$ cos(2u,v) = 2.u.v/|u||v| = 2.u.v/\\sqrt 4.\\sqrt u \\sqrt v = 2.u.v/2.|u||v| = cos(u,v) $$\n",
    "<br>\n",
    "2. Co-sine similarities when using tf-idf vector representations can not be negative tf-idf vectors can not be negative <br>\n",
    "3. When using co-sine similarities for dense vectors, even though the matrices so formed can be dense matrices, co-sine simarity values can still have a negative value between [-1,0] as the function itself ranges from [-1,1]."
   ]
  },
  {
   "cell_type": "markdown",
   "metadata": {},
   "source": [
    "## Theory (4111 & 5111): On the fitting power of Logistic Regression\n",
    "\n",
    "\n",
    "Consider a training set that contains the 4 training examples shown in the table below. Each training example $\\mathbf{x}$ has 2 features $x_1$ and $x_2$ and a label $y \\in \\{0, 1\\}$.\n",
    "$$\\begin{aligned}\n",
    "\\begin{array}{cccc}\n",
    "\\mathbf{x} & x_1 & x_2 & y \\\\\n",
    "\\hline\n",
    "\\mathbf{x}^{(1)} & 0 & 0 & 0 \\\\\n",
    "\\mathbf{x}^{(2)} & 0 & 1 & 1 \\\\\n",
    "\\mathbf{x}^{(3)} & 1 & 0 & 1 \\\\\n",
    "\\mathbf{x}^{(4)} & 1 & 1 & 0 \\\\\n",
    "\\end{array}\n",
    "\\end{aligned}$$\n",
    "Prove that no binary logistic regression model can perfectly classify this dataset. \n",
    "\n",
    "*Hint: Prove that there cannot be a vector of parameters $\\mathbf{w} = [w_1, w_2]$ and bias $b$ such that $P(t = 1|\\mathbf{x}; \\mathbf{w}, b) \\geq 0.5$ for all examples $\\mathbf{x}$ that are positive, and $P(t = 1|\\mathbf{x}; \\mathbf{w}, b) < 0.5$ for all examples $\\mathbf{x}$ that are negative.*"
   ]
  },
  {
   "cell_type": "markdown",
   "metadata": {},
   "source": [
    "YOUR SOLUTION goes here ... <br> <br>\n",
    "Let us consider a weight vector w = [1,2] and let bias b = -0.5 <br>\n",
    "\n",
    "w1^T.x^(1) = [1,2]^T.[0,0] = 0 (-ve) <br>\n",
    "w2^T.x^(2) = [1,2]^T.[0,1] = 2 (+ve) <br>\n",
    "w3^T.x^(3) = [1,2]^T.[1,0] = 1 (+ve) <br>\n",
    "w4^T.x^(4) = [1,2]^T.[1,1] = 3 (-ve) <br>\n",
    "\n",
    "z(+|x) = LR(2+1-0.5) = sigma(2.5) = 0.924 <br>\n",
    "z(-|x) = LR(0+3-0.5) = sigma(2.5) = 0.924 <br>\n",
    "<br>\n",
    "But, in theory, z(-|x) = 1-z(+|x)\n",
    "<br>\n",
    "Also, it is worth noticing that the dataset is actually a truth table for XOR function on x1 and x2. And since the system deviates from actual behaviour for true inputs for both x1 and x2, where the output is false. <br>\n",
    "Also, since the datset is of a smaller size in this case, and there is a potential outlier which deviates from actual expected <br> behaviour of the model. <br>\n",
    "Hence, it is proved that no binary logistic regression model can perfectly classify this dataset. <br>"
   ]
  },
  {
   "cell_type": "markdown",
   "metadata": {},
   "source": [
    "## Theory (5111): Binary vs. Multiclass Logistic Regression\n",
    "\n",
    "Show that binary Logistic Regression is a special case of multiclass Logistic (Softmax) Regression. That is to say, if $\\mathbf{w}_1$ and $\\mathbf{w}_2$ are the parameter vectors of a Softmax Regression model for the case of two classes, then there exists a parameter vector $\\mathbf{w}$ for binary Logistic Regression that results in the same classification as the Softmax Regression model.\n",
    "\n",
    "*Hint: Find $\\mathbf{w}$ as a function of $\\mathbf{w}_1$ and $\\mathbf{w}_2$.*"
   ]
  },
  {
   "cell_type": "markdown",
   "metadata": {},
   "source": [
    "YOUR SOLUTION goes here ...\n",
    "\n",
    "By definition, we know that <br>\n",
    "\n",
    "$softmax(z_j) = exp(z_j) / \\sum_{i=1}^K exp(Z_i) $\n",
    "\n",
    "$$softmax(z_1) = exp(z_1) / \\sum_{i=1}^K exp(Z_i) $$\n",
    "$$softmax(z_2) = exp(z_2) / \\sum_{i=1}^K exp(Z_i) $$\n",
    "\n",
    "We know that for a binary classifier the value of K is 2. <br>\n",
    "For Binary Logistic regression, substitute K=2 in the above equations<br>\n",
    "\n",
    "$$softmax(z_1) = exp(z_1) / \\sum_{i=1}^2 exp(Z_i) $$\n",
    "$$= exp(z_1) / exp(Z_1) + exp(Z_2) $$\n",
    "\n",
    " We also know that <br>\n",
    " $$Z_1 = w_1x + b_1$$\n",
    "and <br>\n",
    "$$Z_2 = w_2x + b_2$$\n",
    "\n",
    "$$softmax(z_1) = e^(Z_1) /  e^(Z_1) + e^(Z_2)$$\n",
    "> $= e^(w_1x + b_1) / [(e^w1x+b1) + (e^w2x + b2)]$ <br>\n",
    "$taking e^(w_1x + b_1)$ as common\n",
    "> $= 1 / 1 + [e^ (w2-w1)x + (b1-b2)]$<br>\n",
    "> = 1 / 1 + e^ (-wx+b)<br>\n",
    ">> where `w = w1-w2`\n",
    ">> and `b = b2-b1`"
   ]
  },
  {
   "cell_type": "markdown",
   "metadata": {},
   "source": [
    "## Theory (Bonus points): Phrase embeddings\n",
    "\n",
    "Given a phrase consisting of a sequence of M words, $phrase = [word_1, word_2, ..., word_M]$, and given that we have already trained word embeddings $E(word)$ for all the words $word \\in V$ in the vocabulary, a simple way of creating an embedding for the phrase is by summing up the embeddings of its words:\n",
    "\\begin{equation}\n",
    "  E(phrase) = \\sum_{m = 1}^M E(word_m)\n",
    "\\end{equation}\n",
    "Considering an entire movie review to be a very long phrase, we could then train a binary logistic regression model with parameters $\\mathbf{w}$ and $b$ for sentiment classification. In that case, the larger the logit score $z(phrase) = \\mathbf{w}^T E(phrase) + b$, the higher the probability the model assigns to the positive sentiment for this $phrase$. Prove that in this approach, irrespective of the model parameters, the inequalities below cannot both hold:\n",
    "\\begin{eqnarray}\n",
    "  z(good) & > & z(not \\; good) \\\\\n",
    "  z(bad) & < & z(not \\; bad)\n",
    "\\end{eqnarray}"
   ]
  },
  {
   "cell_type": "markdown",
   "metadata": {},
   "source": [
    "YOUR SOLUTION goes here ..."
   ]
  },
  {
   "cell_type": "markdown",
   "metadata": {},
   "source": [
    "## Theory (Bonus points): Time and memory complexity\n",
    "\n",
    "1. Describe an efficient procedure (pseudocode) for computing the $tf.idf$ vectors for all the words in a vocabulary $V$, given a set of documents $D$ that contain a total of $N$ word occurrences, and a context window of size $C$. Compute its time and memory complexity, as a function of the size of $V$, $D$, $N$, and $C$.\n",
    "2. What are the time and memory complexity of the skip-gram word2vec model described in class for learning dense word embeddings? Assume the vocabulary is $V$, the corpus is a sequence of words of length $N$, the context window contains $C$ words, and that for every context word we sample $K$ negative words. Assume a gradient descent update is made for each center (target) word, and that the algorithm runs $E$ passes over the entire corpus."
   ]
  },
  {
   "cell_type": "markdown",
   "metadata": {},
   "source": [
    "YOUR SOLUTION goes here ...\n",
    "tf_idf_comp(D[],C): <br>\n",
    "  V = unique_tokens(D)\n",
    "  for i = 0 to C:\n",
    "      for j = range(len(D)):\n",
    "            tf_idf = math.log(D[i+j] + 1) * math.log(N/D[i+j])\n",
    "            \n",
    "Time Complexity: O(C*D/N)\n"
   ]
  },
  {
   "cell_type": "markdown",
   "metadata": {},
   "source": [
    "# Implementation"
   ]
  },
  {
   "cell_type": "code",
   "execution_count": 2,
   "metadata": {},
   "outputs": [],
   "source": [
    "# All required import statements are here.\n",
    "from collections import defaultdict, Counter\n",
    "import math\n",
    "import operator\n",
    "import gzip\n",
    "\n",
    "import numpy as np\n",
    "import random\n",
    "import scipy as sp\n",
    "from sklearn.decomposition import TruncatedSVD\n",
    "\n",
    "import pprint\n",
    "import matplotlib.pyplot as plt\n",
    "plt.rcParams['figure.figsize'] = [10, 5]\n",
    "\n",
    "np.random.seed(0)\n",
    "random.seed(0)"
   ]
  },
  {
   "cell_type": "markdown",
   "metadata": {},
   "source": [
    "## Part 1: Count-Based Word Vectors\n",
    "\n",
    "Most word vector models start from the following idea:\n",
    "\n",
    "*You shall know a word by the company it keeps ([Firth, J. R. 1957:11](https://en.wikipedia.org/wiki/John_Rupert_Firth))*\n",
    "\n",
    "Many word vector implementations are driven by the idea that similar words, i.e., (near) synonyms, will be used in similar contexts. As a result, similar words will often be spoken or written along with a shared subset of words, i.e., contexts. By examining these contexts, we can try to develop embeddings for our words. With this intuition in mind, many \"old school\" approaches to constructing word vectors relied on word counts.\n",
    "\n",
    "This part explores distributional similiarity in a dataset of 10,000 Wikipedia articles (4.4M words), building high-dimensional, sparse representations for words from the distinct contexts they appear in.  These representations allow for analysis of the most similar words to a given query."
   ]
  },
  {
   "cell_type": "code",
   "execution_count": 3,
   "metadata": {},
   "outputs": [],
   "source": [
    "window = 4\n",
    "vocabSize = 10000"
   ]
  },
  {
   "cell_type": "markdown",
   "metadata": {},
   "source": [
    "### Question 1.1: Load corpus and create document frequency  dictionary\n",
    "\n",
    "Load the data from the Wikipedia file. Each line contains a Wikipedia document. After running this code, `wiki_data` should contain a list of all lowercased tokens in the corpus that contain only letters, whereas `dfs` should be a dictionary that maps each unique token to the number of Wikipedia documents in which the token appears (i.e. its document frequency)."
   ]
  },
  {
   "cell_type": "code",
   "execution_count": 4,
   "metadata": {},
   "outputs": [
    {
     "ename": "FileNotFoundError",
     "evalue": "[Errno 2] No such file or directory: '../data/wiki.10K.txt'",
     "output_type": "error",
     "traceback": [
      "\u001b[0;31m---------------------------------------------------------------------------\u001b[0m",
      "\u001b[0;31mFileNotFoundError\u001b[0m                         Traceback (most recent call last)",
      "\u001b[0;32m/var/folders/1n/3021sx6n2gn99kbcsy7kgsfm0000gn/T/ipykernel_7073/3503503776.py\u001b[0m in \u001b[0;36m<module>\u001b[0;34m\u001b[0m\n\u001b[1;32m      4\u001b[0m \u001b[0mNdocs\u001b[0m \u001b[0;34m=\u001b[0m \u001b[0;36m0\u001b[0m\u001b[0;34m\u001b[0m\u001b[0;34m\u001b[0m\u001b[0m\n\u001b[1;32m      5\u001b[0m \u001b[0mwiki_data\u001b[0m \u001b[0;34m=\u001b[0m \u001b[0;34m[\u001b[0m\u001b[0;34m]\u001b[0m\u001b[0;34m\u001b[0m\u001b[0;34m\u001b[0m\u001b[0m\n\u001b[0;32m----> 6\u001b[0;31m \u001b[0;32mwith\u001b[0m \u001b[0mopen\u001b[0m\u001b[0;34m(\u001b[0m\u001b[0mfilename\u001b[0m\u001b[0;34m,\u001b[0m \u001b[0;34m'r'\u001b[0m\u001b[0;34m,\u001b[0m \u001b[0mencoding\u001b[0m \u001b[0;34m=\u001b[0m \u001b[0;34m\"utf-8\"\u001b[0m\u001b[0;34m)\u001b[0m \u001b[0;32mas\u001b[0m \u001b[0mfwiki\u001b[0m\u001b[0;34m:\u001b[0m\u001b[0;34m\u001b[0m\u001b[0;34m\u001b[0m\u001b[0m\n\u001b[0m\u001b[1;32m      7\u001b[0m     \u001b[0;32mfor\u001b[0m \u001b[0mline\u001b[0m \u001b[0;32min\u001b[0m \u001b[0mfwiki\u001b[0m\u001b[0;34m:\u001b[0m\u001b[0;34m\u001b[0m\u001b[0;34m\u001b[0m\u001b[0m\n\u001b[1;32m      8\u001b[0m         \u001b[0marr_ele\u001b[0m \u001b[0;34m=\u001b[0m \u001b[0;34m[\u001b[0m\u001b[0;34m]\u001b[0m\u001b[0;34m\u001b[0m\u001b[0;34m\u001b[0m\u001b[0m\n",
      "\u001b[0;31mFileNotFoundError\u001b[0m: [Errno 2] No such file or directory: '../data/wiki.10K.txt'"
     ]
    }
   ],
   "source": [
    "filename = \"../data/wiki.10K.txt\"\n",
    "\n",
    "dfs = defaultdict(int)\n",
    "Ndocs = 0\n",
    "wiki_data = []\n",
    "with open(filename, 'r', encoding = \"utf-8\") as fwiki:\n",
    "    for line in fwiki:\n",
    "        arr_ele = []\n",
    "        tokens = [t for t in line.lower().split() if t.isalpha()]\n",
    "        # YOUR CODE HERE\n",
    "        Ndocs += 1\n",
    "        for token in tokens:\n",
    "            if (token.isalpha()):\n",
    "                wiki_data.append(token)\n",
    "            if(token.isalpha() and token not in arr_ele):\n",
    "                arr_ele.append(token)\n",
    "        for element in arr_ele:\n",
    "            llower = line.lower()\n",
    "            if(element in llower and element not in dfs):\n",
    "                dfs[element] = 1\n",
    "            elif(element in llower and element in dfs):\n",
    "                dfs[element] += 1\n",
    "        \n",
    "\n",
    "print('Total number of documents:', Ndocs)"
   ]
  },
  {
   "cell_type": "code",
   "execution_count": 5,
   "metadata": {},
   "outputs": [
    {
     "name": "stdout",
     "output_type": "stream",
     "text": [
      "[('the', 9578), ('in', 9274), ('a', 9160), ('of', 8772), ('is', 8221), ('and', 8106), ('was', 6893), ('to', 6802), ('as', 5853), ('by', 5835), ('on', 5821), ('for', 5794), ('with', 5419), ('at', 5315), ('from', 5289), ('it', 5079), ('an', 4966), ('that', 4014), ('also', 3880), ('which', 3715)]\n"
     ]
    }
   ],
   "source": [
    "# Let's print 20 tokens with the larges document frequency.\n",
    "top = sorted(dfs.items(), key = lambda item: item[1], reverse = True)\n",
    "print(top[:20])"
   ]
  },
  {
   "cell_type": "code",
   "execution_count": 6,
   "metadata": {},
   "outputs": [],
   "source": [
    "# We'll only create word representation for the most frequent K words\n",
    "def create_vocab(data):\n",
    "    word_representations = {}\n",
    "    vocab = Counter()\n",
    "    for i, word in enumerate(data):\n",
    "        vocab[word] += 1\n",
    "\n",
    "    topK = [k for k,v in vocab.most_common(vocabSize)]\n",
    "    for k in topK:\n",
    "        word_representations[k] = defaultdict(float)\n",
    "    return word_representations"
   ]
  },
  {
   "cell_type": "code",
   "execution_count": 7,
   "metadata": {},
   "outputs": [],
   "source": [
    "# Word representation for a word = its unigram distributional context (the unigrams that show\n",
    "# up in a window before and after its occurence)\n",
    "def count_unigram_context(data, word_representations):\n",
    "    for i, word in enumerate(data):\n",
    "        if word not in word_representations:\n",
    "            continue\n",
    "        start = i - window if i - window > 0 else 0\n",
    "        end = i + window + 1 if i + window + 1 < len(data) else len(data)\n",
    "        for j in range(start, end):\n",
    "            if i != j:\n",
    "                word_representations[word][data[j]] += 1"
   ]
  },
  {
   "cell_type": "code",
   "execution_count": 8,
   "metadata": {},
   "outputs": [],
   "source": [
    "# Normalize a word representation vector that its L2 norm is 1.\n",
    "# We do this so that the cosine similarity reduces to a simple dot product\n",
    "def normalize(word_representations):\n",
    "    for word in word_representations:\n",
    "        total  =0\n",
    "        for key in word_representations[word]:\n",
    "            total += word_representations[word][key] * word_representations[word][key]\n",
    "            \n",
    "        total = math.sqrt(total)\n",
    "        for key in word_representations[word]:\n",
    "            word_representations[word][key] /= total    "
   ]
  },
  {
   "cell_type": "code",
   "execution_count": 9,
   "metadata": {},
   "outputs": [],
   "source": [
    "def dictionary_dot_product(dict1, dict2):\n",
    "    dot=0\n",
    "    for key in dict1:\n",
    "        if key in dict2:\n",
    "            dot += dict1[key] * dict2[key]\n",
    "    return dot"
   ]
  },
  {
   "cell_type": "code",
   "execution_count": 10,
   "metadata": {},
   "outputs": [],
   "source": [
    "def find_sim(word_representations, query):\n",
    "    if query not in word_representations:\n",
    "        print(\"'%s' is not in vocabulary\" % query)\n",
    "        return None\n",
    "    \n",
    "    scores = {}\n",
    "    for word in word_representations:\n",
    "        cosine = dictionary_dot_product(word_representations[query], word_representations[word])\n",
    "        scores[word] = cosine\n",
    "    return scores"
   ]
  },
  {
   "cell_type": "code",
   "execution_count": 11,
   "metadata": {},
   "outputs": [],
   "source": [
    "# Find the K words with highest cosine similarity to a query in a set of word_representations\n",
    "def find_nearest_neighbors(word_representations, query, K):\n",
    "    scores  =find_sim(word_representations, query)\n",
    "    if scores != None:\n",
    "        sorted_x = sorted(scores.items(), key = operator.itemgetter(1), reverse=True)\n",
    "        for idx, (k, v) in enumerate(sorted_x[:K]):\n",
    "            print(\"%s\\t%s\\t%.5f\" % (idx,k,v))"
   ]
  },
  {
   "cell_type": "code",
   "execution_count": 12,
   "metadata": {},
   "outputs": [],
   "source": [
    "word_representations = create_vocab(wiki_data)\n",
    "count_unigram_context(wiki_data, word_representations)\n",
    "normalize(word_representations)"
   ]
  },
  {
   "cell_type": "code",
   "execution_count": 13,
   "metadata": {},
   "outputs": [
    {
     "name": "stdout",
     "output_type": "stream",
     "text": [
      "0\tmusician\t1.00000\n",
      "1\twriter\t0.91968\n",
      "2\tjournalist\t0.89769\n",
      "3\tphotographer\t0.89593\n",
      "4\tpianist\t0.89561\n",
      "5\tbusinessman\t0.89480\n",
      "6\tpoet\t0.88196\n",
      "7\tpolitician\t0.88074\n",
      "8\tentrepreneur\t0.87987\n",
      "9\tcomposer\t0.87770\n"
     ]
    }
   ],
   "source": [
    "find_nearest_neighbors(word_representations, \"musician\", 10)"
   ]
  },
  {
   "cell_type": "markdown",
   "metadata": {},
   "source": [
    "### Question 1.2: Implement Tf.Idf Representation\n",
    "\n",
    "Q1: Fill out a function `tfidf` below.  This function takes as input a dict of word_representations and for each context word in `word_representations[word]` replaces its *count* value with its tf-idf score.  Use $\\log{(count + 1)}$ for tf and $\\log{N \\over df}$ for idf. This function should modify `word_representations` in place."
   ]
  },
  {
   "cell_type": "code",
   "execution_count": 14,
   "metadata": {},
   "outputs": [],
   "source": [
    "def tfidf(word_representations):\n",
    "    for word in word_representations:\n",
    "        for key,value in word_representations[word].items():\n",
    "            # YOUR CODE HERE\n",
    "            term_freq = math.log(value + 1)\n",
    "            inv_doc_freq = math.log(Ndocs/dfs[key])\n",
    "            tf_idf_value = term_freq * inv_doc_freq\n",
    "            word_representations[word][key] = tf_idf_value\n",
    "    \n",
    "    return word_representations\n"
   ]
  },
  {
   "cell_type": "code",
   "execution_count": 16,
   "metadata": {},
   "outputs": [],
   "source": [
    "tf_idf_word_representations = create_vocab(wiki_data)\n",
    "count_unigram_context(wiki_data, tf_idf_word_representations)\n",
    "tfidf(tf_idf_word_representations)\n",
    "normalize(tf_idf_word_representations)"
   ]
  },
  {
   "cell_type": "markdown",
   "metadata": {},
   "source": [
    "### Question 1.3: Compare Count Representations with Tf.Idf Representations\n",
    "\n",
    "How does the tf.idf representation change the the nearest neighbors? Use `find_nearest_neighbors` on some of the words below."
   ]
  },
  {
   "cell_type": "code",
   "execution_count": 17,
   "metadata": {
    "scrolled": true
   },
   "outputs": [
    {
     "name": "stdout",
     "output_type": "stream",
     "text": [
      "0\tbrook\t1.00000\n",
      "1\tdevelopment\t0.86168\n",
      "2\tproduction\t0.86096\n",
      "3\ts\t0.85968\n",
      "4\tfrench\t0.85828\n",
      "5\tdesign\t0.85783\n",
      "6\tarchitecture\t0.85734\n",
      "7\twest\t0.85708\n",
      "8\tin\t0.85694\n",
      "9\tlocal\t0.85655\n",
      "\n",
      "0\tbrook\t1.00000\n",
      "1\ttrout\t0.10718\n",
      "2\tglen\t0.09513\n",
      "3\tjoy\t0.09323\n",
      "4\tmeadow\t0.09321\n",
      "5\tvalley\t0.09098\n",
      "6\tnorth\t0.09089\n",
      "7\tstreet\t0.09087\n",
      "8\tflat\t0.08832\n",
      "9\triver\t0.08504\n"
     ]
    }
   ],
   "source": [
    "query = \"brook\" # \"musician\" student\" \"education\" \"bacteria\" \"beer\" \"brook\" \"greedy\" \"carbon\" \"prisoner\" \"river\" \"mountain\" \"germany\" \"child\" \"computer\" \"actor\" \"science\"\n",
    "find_nearest_neighbors(word_representations, query, 10)\n",
    "print()\n",
    "find_nearest_neighbors(tf_idf_word_representations, query, 10)"
   ]
  },
  {
   "cell_type": "markdown",
   "metadata": {},
   "source": [
    "#### <font color=\"red\">Write your answer here.</font>\n",
    "\n",
    "You can see from the cell's output that word associations are much stronger for tf-idf representation of words rather than using word associations, as word associations score is only determinbed by the contect window, but tf-idf word representations use a more accurate method of scoring where-in an association is built based on the fact that 2 similar words must have similar document frequencies."
   ]
  },
  {
   "cell_type": "markdown",
   "metadata": {},
   "source": [
    "## Part 2: Prediction-Based Word Vectors (15 points)\n",
    "\n",
    "As discussed in class, more recently prediction-based word vectors have come into fashion, e.g. word2vec. Here, we shall explore the embeddings produced by word2vec. Please revisit the class notes and lecture slides for more details on the word2vec algorithm. If you're feeling adventurous, challenge yourself and try reading the [original paper](https://papers.nips.cc/paper/5021-distributed-representations-of-words-and-phrases-and-their-compositionality.pdf).\n",
    "\n",
    "Then run the following cells to load the word2vec vectors into memory. **Note**: This might take several minutes."
   ]
  },
  {
   "cell_type": "code",
   "execution_count": 18,
   "metadata": {},
   "outputs": [],
   "source": [
    "def load_word2vec():\n",
    "    \"\"\" Load Word2Vec Vectors\n",
    "        Return:\n",
    "            wv_from_bin: All 3 million embeddings, each lengh 300\n",
    "    \"\"\"\n",
    "    import gensim.downloader as api\n",
    "    wv_from_bin = api.load(\"word2vec-google-news-300\")\n",
    "    vocab = list(wv_from_bin.index_to_key)\n",
    "    print(\"Loaded vocab size %i\" % len(vocab))\n",
    "    return wv_from_bin"
   ]
  },
  {
   "cell_type": "code",
   "execution_count": 19,
   "metadata": {},
   "outputs": [
    {
     "name": "stdout",
     "output_type": "stream",
     "text": [
      "Loaded vocab size 3000000\n"
     ]
    }
   ],
   "source": [
    "# -----------------------------------\n",
    "# Run Cell to Load Word Vectors\n",
    "# Note: This may take several minutes\n",
    "# -----------------------------------\n",
    "wv_from_bin = load_word2vec()"
   ]
  },
  {
   "cell_type": "markdown",
   "metadata": {},
   "source": [
    "**Note: If you are receiving out of memory issues on your local machine, try closing other applications to free more memory on your device. You may want to try restarting your machine so that you can free up extra memory. Then immediately run the jupyter notebook and see if you can load the word vectors properly.**\n",
    "\n",
    "jupyter notebook --NotebookApp.iopub_msg_rate_limit=1.0e10"
   ]
  },
  {
   "cell_type": "markdown",
   "metadata": {},
   "source": [
    "Note: vocab.keys() call has been replaced by index_to_key property as gensim 4.0 does not offer support to the vocab.keys() call"
   ]
  },
  {
   "cell_type": "markdown",
   "metadata": {},
   "source": [
    "### Question 2.1: Compare Word2Vec Embeddings with Co-occurrence Embeddings\n",
    "\n",
    "Let's use the word2vec embeddings to find the most similar words, usign the same targets as in part 1 above. Compare the quality of the top 10 words using word2vec with the top 10 most similar words from part 1 above. Which method is better?"
   ]
  },
  {
   "cell_type": "code",
   "execution_count": 20,
   "metadata": {},
   "outputs": [
    {
     "data": {
      "text/plain": [
       "[('brooks', 0.6787609457969666),\n",
       " ('creek', 0.5898942351341248),\n",
       " ('pond', 0.5618537068367004),\n",
       " ('tributary', 0.5576974749565125),\n",
       " ('river', 0.5574392080307007),\n",
       " ('watercourse', 0.5513602495193481),\n",
       " ('Contoocook_River', 0.5428752899169922),\n",
       " ('Neponset_River', 0.5347773432731628),\n",
       " ('Suncook_River', 0.5308333039283752),\n",
       " ('River_Stour', 0.5297598242759705)]"
      ]
     },
     "execution_count": 20,
     "metadata": {},
     "output_type": "execute_result"
    }
   ],
   "source": [
    "wv_from_bin.most_similar(\"brook\") # \"musician\" student\" beer\" education\" \"bacteria\" \"brook\" \"greedy\" \"carbon\" \"prisoner\" \"river\" \"mountain\" \"germany\" \"child\" \"computer\" \"actor\" \"science\""
   ]
  },
  {
   "cell_type": "markdown",
   "metadata": {},
   "source": [
    "#### <font color=\"red\">Write your answer here.</font>\n",
    "Word2Vec embeddings are more accurate than co-occurence embeddings as the top 9 words returned are much closer using word2vec embeddings."
   ]
  },
  {
   "cell_type": "markdown",
   "metadata": {},
   "source": [
    "### Reducing dimensionality of Word2Vec Word Embeddings\n",
    "\n",
    "1. Put the 3 million word2vec vectors into a matrix M\n",
    "2. Run reduce_to_k_dim (your Truncated SVD function) to reduce the vectors from 300-dimensional to 2-dimensional."
   ]
  },
  {
   "cell_type": "markdown",
   "metadata": {},
   "source": [
    "Here, we construct a method that performs dimensionality reduction on the matrix to produce k-dimensional embeddings. We use SVD to take the top k components and produce a new matrix of k-dimensional embeddings. \n",
    "\n",
    "**Note:** All of numpy, scipy, and scikit-learn (`sklearn`) provide *some* implementation of SVD, but only scipy and sklearn provide an implementation of Truncated SVD, and only sklearn provides an efficient randomized algorithm for calculating large-scale Truncated SVD. So please use [sklearn.decomposition.TruncatedSVD](https://scikit-learn.org/stable/modules/generated/sklearn.decomposition.TruncatedSVD.html)."
   ]
  },
  {
   "cell_type": "code",
   "execution_count": 21,
   "metadata": {},
   "outputs": [],
   "source": [
    "def reduce_to_k_dim(M, k = 2):\n",
    "    \"\"\" Reduce a co-occurence count matrix of dimensionality (num_corpus_words, num_corpus_words)\n",
    "        to a matrix of dimensionality (num_corpus_words, k) using the following SVD function from Scikit-Learn:\n",
    "            - http://scikit-learn.org/stable/modules/generated/sklearn.decomposition.TruncatedSVD.html\n",
    "    \n",
    "        Params:\n",
    "            M (numpy matrix of shape (number of corpus words, number of corpus words)): co-occurence matrix of word counts\n",
    "            k (int): embedding size of each word after dimension reduction\n",
    "        Return:\n",
    "            M_reduced (numpy matrix of shape (number of corpus words, k)): matrix of k-dimensioal word embeddings.\n",
    "                    In terms of the SVD from math class, this actually returns U * S\n",
    "    \"\"\"    \n",
    "    n_iters = 10     # Use this parameter in your call to `TruncatedSVD`\n",
    "    M_reduced = None\n",
    "    print(\"Running Truncated SVD over %i words...\" % (M.shape[0]))\n",
    "    \n",
    "    # ------------------\n",
    "    svd = TruncatedSVD(n_components = k, n_iter = n_iters, random_state=42)\n",
    "    svd.fit(M)\n",
    "    M_reduced = M @ svd.components_.T\n",
    "    \n",
    "    # ------------------\n",
    "\n",
    "    print(\"Done.\")\n",
    "    \n",
    "    return M_reduced"
   ]
  },
  {
   "cell_type": "code",
   "execution_count": 22,
   "metadata": {},
   "outputs": [],
   "source": [
    "def get_matrix_of_vectors(wv_from_bin, required_words = []):\n",
    "    \"\"\" Put the word2vec vectors into a matrix M.\n",
    "        Param:\n",
    "            wv_from_bin: KeyedVectors object; the 3 million word2vec vectors loaded from file\n",
    "        Return:\n",
    "            M: numpy matrix shape (num words, 300) containing the vectors\n",
    "            word2Ind: dictionary mapping each word to its row number in M\n",
    "    \"\"\"\n",
    "    import random\n",
    "    words = list(wv_from_bin.index_to_key)\n",
    "    print(\"Shuffling words ...\")\n",
    "    random.shuffle(words)\n",
    "    words = words[:10000]\n",
    "    print(\"Putting %i words into word2Ind and matrix M...\" % len(words))\n",
    "    word2Ind = {}\n",
    "    M = []\n",
    "    curInd = 0\n",
    "    for w in words:\n",
    "        try:\n",
    "            M.append(wv_from_bin.word_vec(w))\n",
    "            word2Ind[w] = curInd\n",
    "            curInd += 1\n",
    "        except KeyError:\n",
    "            continue\n",
    "    for w in required_words:\n",
    "        try:\n",
    "            M.append(wv_from_bin.word_vec(w))\n",
    "            word2Ind[w] = curInd\n",
    "            curInd += 1\n",
    "        except KeyError:\n",
    "            continue\n",
    "    M = np.stack(M)\n",
    "    print(\"Done.\")\n",
    "    return M, word2Ind"
   ]
  },
  {
   "cell_type": "markdown",
   "metadata": {},
   "source": [
    "### Question 2.2: Word2Vec Plot Analysis"
   ]
  },
  {
   "cell_type": "markdown",
   "metadata": {},
   "source": [
    "Here we write a function to plot a set of 2D vectors in 2D space. For graphs, we will use Matplotlib (`plt`)."
   ]
  },
  {
   "cell_type": "code",
   "execution_count": 23,
   "metadata": {},
   "outputs": [],
   "source": [
    "def plot_embeddings(M_reduced, word2Ind, words):\n",
    "    \"\"\" Plot in a scatterplot the embeddings of the words specified in the list \"words\".\n",
    "        NOTE: do not plot all the words listed in M_reduced / word2Ind.\n",
    "        Include a label next to each point.\n",
    "        \n",
    "        Params:\n",
    "            M_reduced (numpy matrix of shape (number of unique words in the corpus , k)): matrix of k-dimensional word embeddings\n",
    "            word2Ind (dict): dictionary that maps word to indices for matrix M\n",
    "            words (list of strings): words whose embeddings we want to visualize\n",
    "    \"\"\"\n",
    "\n",
    "    # ------------------\n",
    "    xvals = []\n",
    "    yvals = []\n",
    "    for word in words:\n",
    "        embed2D = M_reduced[word2Ind[word]]\n",
    "        xvals.append(embed2D[0])\n",
    "        yvals.append(embed2D[1])\n",
    "        \n",
    "    fig, ax = plt.subplots()\n",
    "    ax.scatter(xvals, yvals)\n",
    "    \n",
    "    for i, word in enumerate(words):\n",
    "        ax.annotate(word, (xvals[i], yvals[i]))\n",
    "    # ------------------"
   ]
  },
  {
   "cell_type": "markdown",
   "metadata": {},
   "source": [
    "Run the cell below to plot the 2D word2vec embeddings for `['music', 'jazz', 'opera', 'paris', 'berlin', 'tokyo', 'queen', 'king', 'prince', 'volcano', 'chemistry', 'biology', 'physics', 'lava', 'sonata']`.\n",
    "\n",
    "What clusters together in 2-dimensional embedding space? What doesn't cluster together that you might think should have?"
   ]
  },
  {
   "cell_type": "code",
   "execution_count": 24,
   "metadata": {},
   "outputs": [
    {
     "name": "stdout",
     "output_type": "stream",
     "text": [
      "Shuffling words ...\n",
      "Putting 10000 words into word2Ind and matrix M...\n"
     ]
    },
    {
     "name": "stderr",
     "output_type": "stream",
     "text": [
      "c:\\users\\dell\\appdata\\local\\programs\\python\\python37\\lib\\site-packages\\ipykernel_launcher.py:20: DeprecationWarning: Call to deprecated `word_vec` (Use get_vector instead).\n",
      "c:\\users\\dell\\appdata\\local\\programs\\python\\python37\\lib\\site-packages\\ipykernel_launcher.py:27: DeprecationWarning: Call to deprecated `word_vec` (Use get_vector instead).\n"
     ]
    },
    {
     "name": "stdout",
     "output_type": "stream",
     "text": [
      "Done.\n",
      "Running Truncated SVD over 10015 words...\n",
      "Done.\n"
     ]
    },
    {
     "data": {
      "image/png": "[encoded data removed]",
      "text/plain": [
       "<Figure size 720x360 with 1 Axes>"
      ]
     },
     "metadata": {
      "needs_background": "light"
     },
     "output_type": "display_data"
    }
   ],
   "source": [
    "# -----------------------------------------------------------------\n",
    "# Run this code to Reduce 300-Dimensinal Word Embeddings to k Dimensions\n",
    "# Note: This may take several minutes\n",
    "# -----------------------------------------------------------------\n",
    "words = ['music', 'jazz', 'opera', 'paris', 'berlin', 'tokyo', 'queen', 'king', 'prince', 'volcano', 'chemistry', 'biology', 'physics', 'lava', 'sonata']\n",
    "M, word2Ind = get_matrix_of_vectors(wv_from_bin, required_words = words)\n",
    "M_reduced = reduce_to_k_dim(M, k = 2)\n",
    "\n",
    "plot_embeddings(M_reduced, word2Ind, words)"
   ]
  },
  {
   "cell_type": "markdown",
   "metadata": {},
   "source": [
    "#### <font color=\"red\">Write your answer here.</font>\n",
    "\n",
    "Clustered together: <br>\n",
    "1. Paris, Berlin <br>\n",
    "2. Volcano, Lava <br>\n",
    "<br>\n",
    "Not clustered together: <br>\n",
    "1. tokyo and (Paris,berlin) <br>\n",
    "2. (Physics,Chemistry) and Biology <br>\n",
    "3. music, opera, jazz and sonata <br>\n",
    "4. king,queen, prince"
   ]
  },
  {
   "cell_type": "markdown",
   "metadata": {},
   "source": [
    "### Cosine Similarity\n",
    "Now that we have word vectors, we need a way to quantify the similarity between individual words, according to these vectors. One such metric is cosine-similarity. We will be using this to find words that are \"close\" and \"far\" from one another.\n",
    "\n",
    "We can think of n-dimensional vectors as points in n-dimensional space. If we take this perspective L1 and L2 Distances help quantify the amount of space \"we must travel\" to get between these two points. Another approach is to examine the angle between two vectors. From trigonometry we know that:\n",
    "\n",
    "<img src=\"imgs/inner_product.png\" width=20% style=\"float: center;\"></img>\n",
    "\n",
    "Instead of computing the actual angle, we can leave the similarity in terms of $similarity = cos(\\Theta)$. Formally the [Cosine Similarity](https://en.wikipedia.org/wiki/Cosine_similarity) $s$ between two vectors $p$ and $q$ is defined as:\n",
    "\n",
    "$$s = \\frac{p \\cdot q}{||p|| ||q||}, \\textrm{ where } s \\in [-1, 1] $$ "
   ]
  },
  {
   "cell_type": "markdown",
   "metadata": {},
   "source": [
    "### Question 2.3: Polysemous Words (2 points) [code + written] \n",
    "Find a [polysemous](https://en.wikipedia.org/wiki/Polysemy) word (for example, \"leaves\" or \"scoop\") such that the top-10 most similar words (according to cosine similarity) contains related words from *both* meanings. For example, \"leaves\" has both \"vanishes\" and \"stalks\" in the top 10, and \"scoop\" has both \"handed_waffle_cone\" and \"lowdown\". You will probably need to try several polysemous words before you find one. Please state the polysemous word you discover and the multiple meanings that occur in the top 10. Why do you think many of the polysemous words you tried didn't work?\n",
    "\n",
    "**Note**: You should use the `wv_from_bin.most_similar(word)` function to get the top 10 similar words. This function ranks all other words in the vocabulary with respect to their cosine similarity to the given word. For further assistance please check the __[GenSim documentation](https://radimrehurek.com/gensim/models/keyedvectors.html#gensim.models.keyedvectors.FastTextKeyedVectors.most_similar)__."
   ]
  },
  {
   "cell_type": "code",
   "execution_count": 43,
   "metadata": {},
   "outputs": [
    {
     "data": {
      "text/plain": [
       "[('harder', 0.6780325174331665),\n",
       " ('Hard', 0.6441888809204102),\n",
       " ('tough', 0.6342882513999939),\n",
       " ('difficult', 0.6025749444961548),\n",
       " ('hardest', 0.522578239440918),\n",
       " ('frustrating', 0.4871792793273926),\n",
       " ('easy', 0.4709632694721222),\n",
       " ('good', 0.46791136264801025),\n",
       " ('really', 0.46789589524269104),\n",
       " ('virtually_impossible', 0.462209016084671)]"
      ]
     },
     "execution_count": 43,
     "metadata": {},
     "output_type": "execute_result"
    }
   ],
   "source": [
    "# ------------------\n",
    "# Write your polysemous word exploration code here.\n",
    "\n",
    "wv_from_bin.most_similar(\"hard\")\n",
    "\n",
    "# ------------------"
   ]
  },
  {
   "cell_type": "markdown",
   "metadata": {},
   "source": [
    "#### <font color=\"red\">Write your answer here.</font>\n",
    "In this case, the polysemous word that I have used is 'hard'. <br>\n",
    "Looking at the top 10 words that it returns, you can see that it also consists of words like Hard - which could denote the level of softness of a material, difficult - which could mean how challenging a certain challenge or scenario was and frustrating - which denotes a certain mood. <br>\n",
    "Many of the polysemous words don't work because, resolving the contexts using only word2vec representations is a bit challenging not taking into consideration the context window between some words."
   ]
  },
  {
   "cell_type": "markdown",
   "metadata": {},
   "source": [
    "### Question 2.4: Synonyms & Antonyms\n",
    "\n",
    "When considering Cosine Similarity, it's often more convenient to think of Cosine Distance, which is simply 1 - Cosine Similarity.\n",
    "\n",
    "Find three words (w1,w2,w3) where w1 and w2 are synonyms and w1 and w3 are antonyms, but Cosine Distance(w1,w3) < Cosine Distance(w1,w2). For example, w1=\"happy\" is closer to w3=\"sad\" than to w2=\"cheerful\". \n",
    "\n",
    "Once you have found your example, please give a possible explanation for why this counter-intuitive result may have happened.\n",
    "\n",
    "You should use the the `wv_from_bin.distance(w1, w2)` function here in order to compute the cosine distance between two words. Please see the __[GenSim documentation](https://radimrehurek.com/gensim/models/keyedvectors.html#gensim.models.keyedvectors.FastTextKeyedVectors.distance)__ for further assistance."
   ]
  },
  {
   "cell_type": "code",
   "execution_count": 35,
   "metadata": {},
   "outputs": [
    {
     "name": "stdout",
     "output_type": "stream",
     "text": [
      "Synonyms calm, composed have cosine distance: 0.7487518191337585\n",
      "Antonyms calm, angry have cosine distance: 0.7062515914440155\n"
     ]
    }
   ],
   "source": [
    "# ------------------\n",
    "# Write your synonym & antonym exploration code here.\n",
    "\n",
    "w1 = \"calm\"\n",
    "w2 = \"composed\"\n",
    "w3 = \"angry\"\n",
    "w1_w2_dist = wv_from_bin.distance(w1, w2)\n",
    "w1_w3_dist = wv_from_bin.distance(w1, w3)\n",
    "\n",
    "print(\"Synonyms {}, {} have cosine distance: {}\".format(w1, w2, w1_w2_dist))\n",
    "print(\"Antonyms {}, {} have cosine distance: {}\".format(w1, w3, w1_w3_dist))\n",
    "\n",
    "# ------------------"
   ]
  },
  {
   "cell_type": "markdown",
   "metadata": {},
   "source": [
    "#### <font color=\"red\">Write your answer here.</font>\n",
    "The antonyms may sometimes have a lesser cosine similarity score compared to synonyms as sometimes, due to a change in context of the synonym word that we have used."
   ]
  },
  {
   "cell_type": "markdown",
   "metadata": {},
   "source": [
    "### Solving Analogies with Word Vectors\n",
    "Word2Vec vectors have been shown to *sometimes* exhibit the ability to solve analogies. \n",
    "\n",
    "As an example, for the analogy \"man : king :: woman : x\", what is x?\n",
    "\n",
    "In the cell below, we show you how to use word vectors to find x. The `most_similar` function finds words that are most similar to the words in the `positive` list and most dissimilar from the words in the `negative` list. The answer to the analogy will be the word ranked most similar (largest numerical value).\n",
    "\n",
    "**Note:** Further Documentation on the `most_similar` function can be found within the __[GenSim documentation](https://radimrehurek.com/gensim/models/keyedvectors.html#gensim.models.keyedvectors.FastTextKeyedVectors.most_similar)__."
   ]
  },
  {
   "cell_type": "code",
   "execution_count": 27,
   "metadata": {},
   "outputs": [
    {
     "name": "stdout",
     "output_type": "stream",
     "text": [
      "[('queen', 0.7118193507194519),\n",
      " ('monarch', 0.6189674139022827),\n",
      " ('princess', 0.5902431011199951),\n",
      " ('crown_prince', 0.5499460697174072),\n",
      " ('prince', 0.5377321839332581),\n",
      " ('kings', 0.5236844420433044),\n",
      " ('Queen_Consort', 0.5235945582389832),\n",
      " ('queens', 0.5181134343147278),\n",
      " ('sultan', 0.5098593831062317),\n",
      " ('monarchy', 0.5087411999702454)]\n"
     ]
    }
   ],
   "source": [
    "# Run this cell to answer the analogy -- man : king :: woman : x\n",
    "pprint.pprint(wv_from_bin.most_similar(positive=['woman', 'king'], negative=['man']))"
   ]
  },
  {
   "cell_type": "markdown",
   "metadata": {},
   "source": [
    "### Question 2.5: Finding Analogies\n",
    "Find an example of analogy that holds according to these vectors (i.e. the intended word is ranked top). In your solution please state the full analogy in the form x:y :: a:b. If you believe the analogy is complicated, explain why the analogy holds in one or two sentences.\n",
    "\n",
    "**Note**: You may have to try many analogies to find one that works!"
   ]
  },
  {
   "cell_type": "code",
   "execution_count": 30,
   "metadata": {},
   "outputs": [
    {
     "name": "stdout",
     "output_type": "stream",
     "text": [
      "[('goddess', 0.6533359885215759),\n",
      " ('gods', 0.6281678080558777),\n",
      " ('deity', 0.5856000781059265),\n",
      " ('God', 0.5822120308876038),\n",
      " ('Goddess', 0.5684195756912231),\n",
      " ('deities', 0.5366223454475403),\n",
      " ('divine', 0.5325572490692139),\n",
      " ('God_Himself', 0.5154518485069275),\n",
      " ('diety', 0.5112283825874329),\n",
      " ('GOD', 0.5065943002700806)]\n"
     ]
    }
   ],
   "source": [
    "# ------------------\n",
    "# Write your analogy exploration code here.\n",
    "# uncle:aunt::god:goddess\n",
    "pprint.pprint(wv_from_bin.most_similar(positive=['god','aunt'], negative=['uncle']))\n",
    "\n",
    "# ------------------"
   ]
  },
  {
   "cell_type": "markdown",
   "metadata": {},
   "source": [
    "#### <font color=\"red\">Write your answer here.</font>\n",
    "Analogy uncle:aunt::god:goddess"
   ]
  },
  {
   "cell_type": "markdown",
   "metadata": {},
   "source": [
    "### Question 2.6: Guided Analysis of Bias in Word Vectors\n",
    "\n",
    "It's important to be cognizant of the biases (gender, race, sexual orientation etc.) implicit to our word embeddings.\n",
    "\n",
    "Run the cell below, to examine (a) which terms are most similar to \"woman\" and \"boss\" and most dissimilar to \"man\", and (b) which terms are most similar to \"man\" and \"boss\" and most dissimilar to \"woman\". What do you find in the top 10?"
   ]
  },
  {
   "cell_type": "code",
   "execution_count": 31,
   "metadata": {},
   "outputs": [
    {
     "name": "stdout",
     "output_type": "stream",
     "text": [
      "[('bosses', 0.5522644519805908),\n",
      " ('manageress', 0.49151360988616943),\n",
      " ('exec', 0.45940810441970825),\n",
      " ('Manageress', 0.4559843838214874),\n",
      " ('receptionist', 0.4474116563796997),\n",
      " ('Jane_Danson', 0.44480547308921814),\n",
      " ('Fiz_Jennie_McAlpine', 0.4427576959133148),\n",
      " ('Coronation_Street_actress', 0.44275563955307007),\n",
      " ('supremo', 0.4409853219985962),\n",
      " ('coworker', 0.43986251950263977)]\n",
      "\n",
      "[('supremo', 0.6097397804260254),\n",
      " ('MOTHERWELL_boss', 0.5489562749862671),\n",
      " ('CARETAKER_boss', 0.5375303030014038),\n",
      " ('Bully_Wee_boss', 0.5333974957466125),\n",
      " ('YEOVIL_Town_boss', 0.5321705341339111),\n",
      " ('head_honcho', 0.5281980037689209),\n",
      " ('manager_Stan_Ternent', 0.525971531867981),\n",
      " ('Viv_Busby', 0.5256163477897644),\n",
      " ('striker_Gabby_Agbonlahor', 0.5250812768936157),\n",
      " ('BARNSLEY_boss', 0.5238943099975586)]\n"
     ]
    }
   ],
   "source": [
    "# Run this cell\n",
    "# Here `positive` indicates the list of words to be similar to and `negative` indicates the list of words to be\n",
    "# most dissimilar from.\n",
    "pprint.pprint(wv_from_bin.most_similar(positive=['woman', 'boss'], negative=['man']))\n",
    "print()\n",
    "pprint.pprint(wv_from_bin.most_similar(positive=['man', 'boss'], negative=['woman']))"
   ]
  },
  {
   "cell_type": "markdown",
   "metadata": {},
   "source": [
    "#### <font color=\"red\">Write your answer here.</font>\n",
    "Here, we notice that if gender-neutral words are used, the results are not accurate.<br>\n",
    "The top 10 words denote some words that can not be categorized as words that are entirely related to each other."
   ]
  },
  {
   "cell_type": "markdown",
   "metadata": {},
   "source": [
    "### Question 2.7: Independent Analysis of Bias in Word Vectors\n",
    "\n",
    "Use the `most_similar` function to find another case where some bias is exhibited by the vectors. Please briefly explain the example of bias that you discover."
   ]
  },
  {
   "cell_type": "code",
   "execution_count": 36,
   "metadata": {},
   "outputs": [
    {
     "name": "stdout",
     "output_type": "stream",
     "text": [
      "[('chauffer', 0.6334928870201111),\n",
      " ('chauffeur_driven_limousine', 0.5633126497268677),\n",
      " ('limo', 0.5504148602485657),\n",
      " ('maid', 0.5501381754875183),\n",
      " ('limousine', 0.5406482219696045),\n",
      " ('housekeeper', 0.5345855951309204),\n",
      " ('chauffeurs', 0.526387095451355),\n",
      " ('manicurist', 0.5253134369850159),\n",
      " ('chauffeur_driven', 0.5228769183158875),\n",
      " ('nanny', 0.5224153399467468)]\n",
      "\n",
      "[('chauffer', 0.6446998715400696),\n",
      " ('Ernesto_del_Rosario', 0.5216064453125),\n",
      " ('chauffeur_driven', 0.5213154554367065),\n",
      " ('chauffeurs', 0.520883321762085),\n",
      " ('bodyguard', 0.5141441822052002),\n",
      " ('limo', 0.49644362926483154),\n",
      " ('chauffeured', 0.49505797028541565),\n",
      " ('butler', 0.4890088140964508),\n",
      " ('chauffeuring', 0.4856497347354889),\n",
      " ('chauffered', 0.4821283519268036)]\n"
     ]
    }
   ],
   "source": [
    "# ------------------\n",
    "# Write your bias exploration code here.\n",
    "\n",
    "pprint.pprint(wv_from_bin.most_similar(positive=['woman','chauffeur'], negative=['man']))\n",
    "print()\n",
    "pprint.pprint(wv_from_bin.most_similar(positive=['man','chauffeur'], negative=['woman']))\n",
    "\n",
    "# ------------------"
   ]
  },
  {
   "cell_type": "markdown",
   "metadata": {},
   "source": [
    "#### <font color=\"red\">Write your answer here.</font>\n",
    "The bias here is seen because of gender-neutrality. Based on the bias values, you get contrasting word results like housekeeper,manicurist and bodyguard which are disagreeing with each other in terms of context relevance."
   ]
  },
  {
   "cell_type": "markdown",
   "metadata": {},
   "source": [
    "### Question 2.8: Thinking About Bias\n",
    "\n",
    "What might be the cause of these biases in the word vectors?\n"
   ]
  },
  {
   "cell_type": "markdown",
   "metadata": {},
   "source": [
    "#### <font color=\"red\">Write your answer here.</font>\n",
    "The fact that words like chauffeur are gender neutral and some words which may display some level of neutrality may seem to exhibit a factor of disparity in the analogy that one is interested in looking for. Additionally, what also happens is that since gender neutral / context neutral words are used, the word vector exists as a single point in space. Hence, when the comparison of the analogy is done in this case, the set of analogical word vectors is not a parallellogram anymore, as the set of word vectors can only form a triangle(man,woman, chauffeur) only form 3 points"
   ]
  },
  {
   "cell_type": "markdown",
   "metadata": {},
   "source": [
    "## Implementation: Bonus points\n",
    "\n",
    "Anything extra goes here. For example:\n",
    "\n",
    "1. How does changing the window size (smaller, larger) change the word to word similarities?\n",
    "2. Even though `count_unigram_context` computes count-based vector representations only for the top K (10000) most common words in the vocabulary, it uses all the words that appear in the context. Change it to only use word in the context that are in the top K most common words, and see if it improves the results."
   ]
  },
  {
   "cell_type": "code",
   "execution_count": 44,
   "metadata": {},
   "outputs": [
    {
     "name": "stdout",
     "output_type": "stream",
     "text": [
      "0\tmusician\t1.00000\n",
      "1\twriter\t0.91968\n",
      "2\tjournalist\t0.89769\n",
      "3\tphotographer\t0.89593\n",
      "4\tpianist\t0.89561\n",
      "5\tbusinessman\t0.89480\n",
      "6\tpoet\t0.88196\n",
      "7\tpolitician\t0.88074\n",
      "8\tentrepreneur\t0.87987\n",
      "9\tcomposer\t0.87770\n"
     ]
    }
   ],
   "source": [
    "window = 10\n",
    "find_nearest_neighbors(word_representations, \"musician\", 10)"
   ]
  },
  {
   "cell_type": "markdown",
   "metadata": {},
   "source": [
    "The word representations does not make a lot of difference as the  context window is more than what it's previous value was.\n",
    "But in case you reduce the window to a lesser value, say 3, there would be some difference in the top 10 words returned in terms of how closely associated they are."
   ]
  }
 ],
 "metadata": {
  "kernelspec": {
   "display_name": "Python 3 (ipykernel)",
   "language": "python",
   "name": "python3"
  },
  "language_info": {
   "codemirror_mode": {
    "name": "ipython",
    "version": 3
   },
   "file_extension": ".py",
   "mimetype": "text/x-python",
   "name": "python",
   "nbconvert_exporter": "python",
   "pygments_lexer": "ipython3",
   "version": "3.9.7"
  }
 },
 "nbformat": 4,
 "nbformat_minor": 4
}
