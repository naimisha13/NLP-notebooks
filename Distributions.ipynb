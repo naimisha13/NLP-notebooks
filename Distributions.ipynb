{
 "cells": [
  {
   "cell_type": "markdown",
   "metadata": {},
   "source": [
    "# Distributions of Words & Sentences\n",
    "\n",
    "This assignment is comprised of two tasks:\n",
    "\n",
    "1. The first task is to compute the frequency vs. rank distribution of the words in Moby Dick. For this, you will need to tokenize the document and create a vocabulary mapping word types to their document frequency.\n",
    "2. The second task is to segment the document into sentences and compute the sentence length distribution. Here you will experiment with spaCy's default sentence segmenter as well as the simple rule-based Sentencizer."
   ]
  },
  {
   "cell_type": "markdown",
   "metadata": {
    "tags": []
   },
   "source": [
    "## Write Your Name Here: Shreyas Yermal Lokesha\n",
    "## UNCC Id: 801210964\n",
    "## UNCC E-mail Id: slokesha@uncc.edu"
   ]
  },
  {
   "cell_type": "markdown",
   "metadata": {},
   "source": [
    "# <font color=\"blue\"> Submission Instructions</font>\n",
    "\n",
    "1. Click the Save button at the top of the Jupyter Notebook.\n",
    "2. Please make sure to have entered your name above.\n",
    "3. Select Cell -> All Output -> Clear. This will clear all the outputs from all cells (but will keep the content of ll cells). \n",
    "4. Select Cell -> Run All. This will run all the cells in order, and will take several minutes.\n",
    "5. Once you've rerun everything, select File -> Download as -> PDF via LaTeX and download a PDF version *distributions.pdf* showing the code and the output of all cells, and save it in the same folder that contains the notebook file *distributions.ipynb*.\n",
    "6. Look at the PDF file and make sure all your solutions are there, displayed correctly. The PDF is the only thing we will see when grading!\n",
    "7. Submit **both** your PDF and notebook on Canvas."
   ]
  },
  {
   "cell_type": "markdown",
   "metadata": {},
   "source": [
    "## Word distributions\n",
    "\n",
    "First, create the spaCy tokenizer."
   ]
  },
  {
   "cell_type": "code",
   "execution_count": 1,
   "metadata": {},
   "outputs": [],
   "source": [
    "from spacy.lang.en import English\n",
    "nlp = English()\n",
    "\n",
    "tokenizer = nlp.tokenizer"
   ]
  },
  {
   "cell_type": "markdown",
   "metadata": {},
   "source": [
    "Create a *vocab* dictionary. This dictionary will map tokens to their counts in the input text file."
   ]
  },
  {
   "cell_type": "code",
   "execution_count": 2,
   "metadata": {},
   "outputs": [],
   "source": [
    "vocab = {}"
   ]
  },
  {
   "cell_type": "markdown",
   "metadata": {},
   "source": [
    "Read the input file line by line.\n",
    "\n",
    "1. Tokenize each line.\n",
    "2. For each token in the line that contains only letters, convert it to lower case and increment the corresponding count in the dictionary.\n",
    "    - If the token does not exist in the dictionary yet, insert it with a count of 1. For example, the first time the token 'water' is encountered, the code should evaluate *vocab['water'] = 1*.\n",
    "\n",
    "At the end of this code segment, *vocab* should map each word type to the number of times it appeared in the entire document. There should be 16830 word types and 214287 words in Moby Dick."
   ]
  },
  {
   "cell_type": "code",
   "execution_count": 3,
   "metadata": {},
   "outputs": [
    {
     "name": "stdout",
     "output_type": "stream",
     "text": [
      "There are 16830 word types in Moby Dick.\n",
      "There are 214287 words in Moby Dick.\n"
     ]
    }
   ],
   "source": [
    "with open('../data/melville-moby_dick.txt', 'r') as f:\n",
    "    for line in f:\n",
    "        # YOUR CODE GOES HERE\n",
    "        \n",
    "        tokenset = tokenizer(line)\n",
    "        for item in tokenset:\n",
    "            if(item.is_alpha):\n",
    "                x = item.text.lower()\n",
    "                if(x in vocab.keys()):\n",
    "                    vocab[x] += 1\n",
    "                else:\n",
    "                    vocab[x] = 1\n",
    "\n",
    "print('There are', len(vocab), 'word types in Moby Dick.')\n",
    "print('There are', sum(vocab.values()), 'words in Moby Dick.')"
   ]
  },
  {
   "cell_type": "markdown",
   "metadata": {},
   "source": [
    "Create a list *ranked* of tuples *(word, freq)* that contains all the words in the vocabulary *vocab* sorted by frequency. For example, if *vocab = {'duck':2, 'goose':5, 'turkey':3}*, then *ranked = [('goose', 5), ('turkey', 3), ('duck', 2)]*. "
   ]
  },
  {
   "cell_type": "code",
   "execution_count": 47,
   "metadata": {},
   "outputs": [],
   "source": [
    "ranked = [(a,b) for a,b in sorted(vocab.items(),key = lambda item:item[1], reverse = True)]# YOUR CODE GOES HERE\n",
    "#rnktup = tuple({x:y for x,y in sorted(vocab.items(),key = lambda item:item[1] , reverse = True)})\n"
   ]
  },
  {
   "cell_type": "markdown",
   "metadata": {},
   "source": [
    "Print the top 10 words in the sorted list."
   ]
  },
  {
   "cell_type": "code",
   "execution_count": 48,
   "metadata": {},
   "outputs": [
    {
     "name": "stdout",
     "output_type": "stream",
     "text": [
      "Size of vocabulary: 16830\n",
      "the 14388\n",
      "of 6606\n",
      "and 6414\n",
      "a 4698\n",
      "to 4618\n",
      "in 4164\n",
      "that 3061\n",
      "his 2527\n",
      "it 2489\n",
      "i 2068\n"
     ]
    }
   ],
   "source": [
    "print('Size of vocabulary:', len(ranked))\n",
    "for word, freq in ranked[:10]:\n",
    "    print(word, freq)"
   ]
  },
  {
   "cell_type": "markdown",
   "metadata": {},
   "source": [
    "Plot the frequency vs. rank of all the words in Moby Dick."
   ]
  },
  {
   "cell_type": "code",
   "execution_count": 49,
   "metadata": {},
   "outputs": [
    {
     "data": {
      "image/png": "[encoded data removed]",
      "text/plain": [
       "<Figure size 432x288 with 1 Axes>"
      ]
     },
     "metadata": {
      "needs_background": "light"
     },
     "output_type": "display_data"
    }
   ],
   "source": [
    "import matplotlib.pyplot as plt\n",
    "ranks = range(1, 50 + 1)\n",
    "freqs = [t[1] for t in ranked[:50]]\n",
    "plt.scatter(ranks, freqs, c='#1f77b4', alpha=0.5)\n",
    "plt.show()"
   ]
  },
  {
   "cell_type": "code",
   "execution_count": 50,
   "metadata": {},
   "outputs": [
    {
     "data": {
      "image/png": "[encoded data removed]",
      "text/plain": [
       "<Figure size 432x288 with 1 Axes>"
      ]
     },
     "metadata": {
      "needs_background": "light"
     },
     "output_type": "display_data"
    }
   ],
   "source": [
    "import math\n",
    "ranks = [1 + math.log(r) for r in range(1, len(ranked) + 1)]\n",
    "freqs = [math.log(t[1]) for t in ranked]\n",
    "plt.scatter(ranks, freqs, c='#1f77b4', alpha=0.5)\n",
    "plt.show()"
   ]
  },
  {
   "cell_type": "markdown",
   "metadata": {},
   "source": [
    "## Sentence distributions\n",
    "\n",
    "First, try to create the spaCy nlp object from the entire text of Moby Dick. This will likely not work, it is not a good idea to read all the text."
   ]
  },
  {
   "cell_type": "code",
   "execution_count": 51,
   "metadata": {},
   "outputs": [
    {
     "ename": "ValueError",
     "evalue": "[E088] Text of length 1220066 exceeds maximum of 1000000. The parser and NER models require roughly 1GB of temporary memory per 100,000 characters in the input. This means long texts may cause memory allocation errors. If you're not using the parser or NER, it's probably safe to increase the `nlp.max_length` limit. The limit is in number of characters, so you can check whether your inputs are too long by checking `len(text)`.",
     "output_type": "error",
     "traceback": [
      "\u001b[1;31m---------------------------------------------------------------------------\u001b[0m",
      "\u001b[1;31mValueError\u001b[0m                                Traceback (most recent call last)",
      "\u001b[1;32m~\\AppData\\Local\\Temp/ipykernel_3188/2717002528.py\u001b[0m in \u001b[0;36m<module>\u001b[1;34m\u001b[0m\n\u001b[0;32m      2\u001b[0m \u001b[0mnlp\u001b[0m \u001b[1;33m=\u001b[0m \u001b[0mspacy\u001b[0m\u001b[1;33m.\u001b[0m\u001b[0mload\u001b[0m\u001b[1;33m(\u001b[0m\u001b[1;34m\"en_core_web_sm\"\u001b[0m\u001b[1;33m)\u001b[0m\u001b[1;33m\u001b[0m\u001b[1;33m\u001b[0m\u001b[0m\n\u001b[0;32m      3\u001b[0m \u001b[0mtext\u001b[0m \u001b[1;33m=\u001b[0m \u001b[0mopen\u001b[0m\u001b[1;33m(\u001b[0m\u001b[1;34m'../data/melville-moby_dick.txt'\u001b[0m\u001b[1;33m,\u001b[0m \u001b[1;34m'r'\u001b[0m\u001b[1;33m)\u001b[0m\u001b[1;33m.\u001b[0m\u001b[0mread\u001b[0m\u001b[1;33m(\u001b[0m\u001b[1;33m)\u001b[0m\u001b[1;33m\u001b[0m\u001b[1;33m\u001b[0m\u001b[0m\n\u001b[1;32m----> 4\u001b[1;33m \u001b[0mdoc\u001b[0m \u001b[1;33m=\u001b[0m \u001b[0mnlp\u001b[0m\u001b[1;33m(\u001b[0m\u001b[0mtext\u001b[0m\u001b[1;33m)\u001b[0m\u001b[1;33m\u001b[0m\u001b[1;33m\u001b[0m\u001b[0m\n\u001b[0m",
      "\u001b[1;32mc:\\users\\dell\\appdata\\local\\programs\\python\\python37\\lib\\site-packages\\spacy\\language.py\u001b[0m in \u001b[0;36m__call__\u001b[1;34m(self, text, disable, component_cfg)\u001b[0m\n\u001b[0;32m    986\u001b[0m         \u001b[0mDOCS\u001b[0m\u001b[1;33m:\u001b[0m \u001b[0mhttps\u001b[0m\u001b[1;33m:\u001b[0m\u001b[1;33m//\u001b[0m\u001b[0mspacy\u001b[0m\u001b[1;33m.\u001b[0m\u001b[0mio\u001b[0m\u001b[1;33m/\u001b[0m\u001b[0mapi\u001b[0m\u001b[1;33m/\u001b[0m\u001b[0mlanguage\u001b[0m\u001b[1;31m#call\u001b[0m\u001b[1;33m\u001b[0m\u001b[1;33m\u001b[0m\u001b[0m\n\u001b[0;32m    987\u001b[0m         \"\"\"\n\u001b[1;32m--> 988\u001b[1;33m         \u001b[0mdoc\u001b[0m \u001b[1;33m=\u001b[0m \u001b[0mself\u001b[0m\u001b[1;33m.\u001b[0m\u001b[0mmake_doc\u001b[0m\u001b[1;33m(\u001b[0m\u001b[0mtext\u001b[0m\u001b[1;33m)\u001b[0m\u001b[1;33m\u001b[0m\u001b[1;33m\u001b[0m\u001b[0m\n\u001b[0m\u001b[0;32m    989\u001b[0m         \u001b[1;32mif\u001b[0m \u001b[0mcomponent_cfg\u001b[0m \u001b[1;32mis\u001b[0m \u001b[1;32mNone\u001b[0m\u001b[1;33m:\u001b[0m\u001b[1;33m\u001b[0m\u001b[1;33m\u001b[0m\u001b[0m\n\u001b[0;32m    990\u001b[0m             \u001b[0mcomponent_cfg\u001b[0m \u001b[1;33m=\u001b[0m \u001b[1;33m{\u001b[0m\u001b[1;33m}\u001b[0m\u001b[1;33m\u001b[0m\u001b[1;33m\u001b[0m\u001b[0m\n",
      "\u001b[1;32mc:\\users\\dell\\appdata\\local\\programs\\python\\python37\\lib\\site-packages\\spacy\\language.py\u001b[0m in \u001b[0;36mmake_doc\u001b[1;34m(self, text)\u001b[0m\n\u001b[0;32m   1066\u001b[0m         \u001b[1;32mif\u001b[0m \u001b[0mlen\u001b[0m\u001b[1;33m(\u001b[0m\u001b[0mtext\u001b[0m\u001b[1;33m)\u001b[0m \u001b[1;33m>\u001b[0m \u001b[0mself\u001b[0m\u001b[1;33m.\u001b[0m\u001b[0mmax_length\u001b[0m\u001b[1;33m:\u001b[0m\u001b[1;33m\u001b[0m\u001b[1;33m\u001b[0m\u001b[0m\n\u001b[0;32m   1067\u001b[0m             raise ValueError(\n\u001b[1;32m-> 1068\u001b[1;33m                 \u001b[0mErrors\u001b[0m\u001b[1;33m.\u001b[0m\u001b[0mE088\u001b[0m\u001b[1;33m.\u001b[0m\u001b[0mformat\u001b[0m\u001b[1;33m(\u001b[0m\u001b[0mlength\u001b[0m\u001b[1;33m=\u001b[0m\u001b[0mlen\u001b[0m\u001b[1;33m(\u001b[0m\u001b[0mtext\u001b[0m\u001b[1;33m)\u001b[0m\u001b[1;33m,\u001b[0m \u001b[0mmax_length\u001b[0m\u001b[1;33m=\u001b[0m\u001b[0mself\u001b[0m\u001b[1;33m.\u001b[0m\u001b[0mmax_length\u001b[0m\u001b[1;33m)\u001b[0m\u001b[1;33m\u001b[0m\u001b[1;33m\u001b[0m\u001b[0m\n\u001b[0m\u001b[0;32m   1069\u001b[0m             )\n\u001b[0;32m   1070\u001b[0m         \u001b[1;32mreturn\u001b[0m \u001b[0mself\u001b[0m\u001b[1;33m.\u001b[0m\u001b[0mtokenizer\u001b[0m\u001b[1;33m(\u001b[0m\u001b[0mtext\u001b[0m\u001b[1;33m)\u001b[0m\u001b[1;33m\u001b[0m\u001b[1;33m\u001b[0m\u001b[0m\n",
      "\u001b[1;31mValueError\u001b[0m: [E088] Text of length 1220066 exceeds maximum of 1000000. The parser and NER models require roughly 1GB of temporary memory per 100,000 characters in the input. This means long texts may cause memory allocation errors. If you're not using the parser or NER, it's probably safe to increase the `nlp.max_length` limit. The limit is in number of characters, so you can check whether your inputs are too long by checking `len(text)`."
     ]
    }
   ],
   "source": [
    "import spacy\n",
    "nlp = spacy.load(\"en_core_web_sm\")\n",
    "text = open('../data/melville-moby_dick.txt', 'r').read()\n",
    "doc = nlp(text)"
   ]
  },
  {
   "cell_type": "markdown",
   "metadata": {},
   "source": [
    "Instead, read the document paragraph by paragraph, i.e. in chunks of text separated by empty lines. Segment each paragraph into sentences. For each sentence in the paragraph append its length (in tokens) to *lengths*. Use the default *nlp* class to process each paragraph and split it into sentences. Stop after processing 1000 paragraphs. This will be slow, so be patient."
   ]
  },
  {
   "cell_type": "code",
   "execution_count": 4,
   "metadata": {},
   "outputs": [
    {
     "ename": "SyntaxError",
     "evalue": "unexpected EOF while parsing (Temp/ipykernel_16144/1589913238.py, line 30)",
     "output_type": "error",
     "traceback": [
      "\u001b[1;36m  File \u001b[1;32m\"C:\\Users\\dell\\AppData\\Local\\Temp/ipykernel_16144/1589913238.py\"\u001b[1;36m, line \u001b[1;32m30\u001b[0m\n\u001b[1;33m    #plt.show()\u001b[0m\n\u001b[1;37m               ^\u001b[0m\n\u001b[1;31mSyntaxError\u001b[0m\u001b[1;31m:\u001b[0m unexpected EOF while parsing\n"
     ]
    }
   ],
   "source": [
    "import re\n",
    "import spacy\n",
    "import matplotlib.pyplot as plt\n",
    "nlp = spacy.load(\"en_core_web_sm\")\n",
    "\n",
    "# the number of paragraphs read so far.\n",
    "count = 0 \n",
    "# stores the length of each sentence processed so far.\n",
    "lengths = []\n",
    "# make sure the file is read line by line.\n",
    "with open('../data/melville-moby_dick.txt', 'r') as f:\n",
    "    # YOUR CODE GOES HERE\n",
    "    i = 0\n",
    "    docData = f.read()\n",
    "    paragraphData = re.split(r'\\n\\n+',docData)\n",
    "    while (count <= 1000):\n",
    "        for pdata in paragraphData:\n",
    "            count += 1\n",
    "            sentence = re.split(r' *[\\.\\?!][\\'\"\\)\\]]* *',pdata)\n",
    "            for sent in sentence:\n",
    "                tokenset = nlp(sent)\n",
    "                tokCounter = 0\n",
    "                for token in tokenset:\n",
    "                    if(i<150):\n",
    "                       # print(token)\n",
    "                       \n",
    "                    \n",
    "#len150 = [l for l in lengths if l <= 150]\n",
    "#plt.hist(len150, bins = 20)\n",
    "#plt.show()"
   ]
  },
  {
   "cell_type": "markdown",
   "metadata": {},
   "source": [
    "Next, do the same processing as above, but the more robust Sentencizer to split paragraphs into sentences. Note the speedup."
   ]
  },
  {
   "cell_type": "code",
   "execution_count": 53,
   "metadata": {},
   "outputs": [
    {
     "data": {
      "image/png": "[encoded data removed]",
      "text/plain": [
       "<Figure size 432x288 with 1 Axes>"
      ]
     },
     "metadata": {
      "needs_background": "light"
     },
     "output_type": "display_data"
    }
   ],
   "source": [
    "from spacy.lang.en import English\n",
    "\n",
    "nlp = English()\n",
    "nlp.add_pipe(\"sentencizer\")\n",
    "\n",
    "# the number of paragraphs read so far.\n",
    "count = 0\n",
    "# stores the length of each sentence processed so far.\n",
    "lengths = []\n",
    "with open('../data/melville-moby_dick.txt', 'r') as f:\n",
    "    # YOUR CODE GOES HERE\n",
    "    docData = f.read()\n",
    "    paragraphData = re.split(r'\\n\\n+',docData)\n",
    "    while (count <= 1000):\n",
    "        for pdata in paragraphData:\n",
    "            count += 1\n",
    "            doc = nlp(pdata)\n",
    "            for sent in doc.sents:\n",
    "                tokCounter = 0\n",
    "                for tok in sent:\n",
    "                    tokCounter += 1\n",
    "                lengths.append(tokCounter)\n",
    "    \n",
    "len150 = [l for l in lengths if l <= 150]\n",
    "plt.hist(len150, bins = 20)\n",
    "plt.show()"
   ]
  },
  {
   "cell_type": "markdown",
   "metadata": {},
   "source": [
    "Note the difference between the two histograms. Identify at least 5 examples of sentences in Moby Dick that are segmented differently by the two approaches. Copy them below and explain the differences. Which method seems to be more accurate?"
   ]
  },
  {
   "cell_type": "markdown",
   "metadata": {},
   "source": [
    "We can note from the above histograms some details which could prove useful in our analysis:\n",
    "The curve that the matplotlib library generates for the case using the classical approach of token segmentation is very steep, whereas the one generated for the case using a sentencizer added to the processing pieline only shows a gradually decreasing trend.\n",
    "\n",
    "Approach 1 talks about the classical approach using regex for sentence segmentation.\n",
    "Approach 2 talks about spaCy's approach using the sentencizer pipe.\n",
    "\n",
    "Instances from the Moby Dick Text where sentences are parsed differently by the 2 approaches\n",
    "1. \"WHALE. ... Sw. and Dan. HVAL.  This animal is named from roundness\\n or rolling; for in Dan. HVALT is arched or vaulted.\"\n",
    "\n",
    "In approach 1, it is parsed as \n",
    "WHALE -> token1\n",
    " (whitespace) -> token2\n",
    "Sw -> token3\n",
    "and Dan -> token4\n",
    "\n",
    "In approach 2, it is parsed as\n",
    "WHALE. ... -> token1\n",
    "Sw. and Dan. -> token2\n",
    "\n",
    "2. \"WHALE. ... It is more immediately from the Dut. and Ger. WALLEN;\\n A.S. WALW-IAN, to roll, to wallow.\"\n",
    "Like in the previous instance, approach 1 parses this sentence into tokens using the period symbol '.' as de-limiter.\n",
    "\n",
    "In approach 2, it is parsed as\n",
    "WHALE. ... -> token1\n",
    "It is more immediately from the Dut. and Ger. -> token2 and so on\n",
    "Note that, the component words Dut. and Ger. of the above sentence are parsed separately in approach 1.\n",
    "\n",
    "3. \"Io!  Paean!  Io! sing.\"\n",
    "\n",
    "In approach 1, it is parsed as\n",
    "Io -> token1\n",
    "Paean -> token2\n",
    "Io -> token3\n",
    "sing -> token4\n",
    "\n",
    "In approach 2, it is parsed as\n",
    "Io! Paean! Io!  -> token1\n",
    "sing -> token2\n",
    "Note in this case that exclamatory symbols have not been used as a de-limiter in spacy's segmentation approach\n",
    "\n",
    "4. \"My God!  Mr. Chace, what is the matter?\"  I answered, \"we have been \\nstove by a whale.\"\n",
    "This is on the similar lines as in instance 3. The segmentation in approach2 is very similar to the way it happens in instance 3\n",
    "\n",
    "5. \"Give it up, Sub-Subs!  For by how much the more\\npains ye take to please the world, by so much the more shall ye for\\n ever go thankless!  Would that I could clear out Hampton Court and\\n the Tuileries for ye!\"\n",
    "The token extraction methodology, followed by approach 2, even in this instance is similar to that in instance 3.\n",
    "\n",
    "\n",
    "Overall, what we can say about the way spaCy's sentencizer works, is that, it seems to be a better fit to be of use, when we have problem statements that deal with tokenization methods that go hand-in-hand with run time efficiency(taking less time to run). So, spaCy's sentencizer generates more accurate results."
   ]
  },
  {
   "cell_type": "code",
   "execution_count": null,
   "metadata": {},
   "outputs": [],
   "source": [
    "import re\n",
    "import spacy\n",
    "import matplotlib.pyplot as plt\n",
    "nlp = spacy.load(\"en_core_web_sm\")\n",
    "\n",
    "# the number of paragraphs read so far.\n",
    "count = 0 \n",
    "# stores the length of each sentence processed so far.\n",
    "lengths = []\n",
    "# make sure the file is read line by line.\n",
    "with open('../data/melville-moby_dick.txt', 'r') as f:\n",
    "    # YOUR CODE GOES HERE\n",
    "    i = 0\n",
    "    \n",
    "    docData = f.read()\n",
    "    paragraphData = re.split(r'\\n\\n+',docData)\n",
    "    while (count <= 1000):\n",
    "        for pdata in paragraphData:\n",
    "            count += 1\n",
    "            sentence = re.split(r' *[\\.\\?!][\\'\"\\)\\]]* *',pdata)\n",
    "            for sent in sentence:\n",
    "                if(i < 250):\n",
    "                    print(sent, end = '*sentence----end app1*\\n')\n",
    "                    i += 1\n",
    "    \n"
   ]
  },
  {
   "cell_type": "code",
   "execution_count": null,
   "metadata": {},
   "outputs": [],
   "source": [
    "import re\n",
    "import spacy\n",
    "import matplotlib.pyplot as plt\n",
    "nlp = spacy.load(\"en_core_web_sm\")\n",
    "nlp.add_pipe(\"sentencizer\")\n",
    "\n",
    "# the number of paragraphs read so far.\n",
    "count = 0 \n",
    "# stores the length of each sentence processed so far.\n",
    "lengths = []\n",
    "# make sure the file is read line by line.\n",
    "with open('../data/melville-moby_dick.txt', 'r') as f:\n",
    "    # YOUR CODE GOES HERE\n",
    "    i = 0\n",
    "    \n",
    "    docData = f.read()\n",
    "\n",
    "    paragraphData = re.split(r'\\n\\n+',docData)\n",
    "    while (count <= 1000):\n",
    "        for pdata in paragraphData:\n",
    "            count += 1\n",
    "            doc = nlp(pdata)\n",
    "            for sent in doc.sents:\n",
    "                if(i< 250):\n",
    "                    print(sent, end = '*sentence----end app2*\\n')\n",
    "                    i += 1"
   ]
  },
  {
   "cell_type": "markdown",
   "metadata": {},
   "source": [
    "**[Bonus points]** Anything extra goes here."
   ]
  },
  {
   "cell_type": "markdown",
   "metadata": {},
   "source": [
    "The lines of code used in the above 2 cells were used as comparator modules for performing the comparison between the classical regex sentencizer and spaCy's sentencizer. An attempt was made to compare the first 250 sentences parsed using 2 different lexical styles"
   ]
  },
  {
   "cell_type": "code",
   "execution_count": null,
   "metadata": {},
   "outputs": [],
   "source": []
  }
 ],
 "metadata": {
  "kernelspec": {
   "display_name": "Python 3 (ipykernel)",
   "language": "python",
   "name": "python3"
  },
  "language_info": {
   "codemirror_mode": {
    "name": "ipython",
    "version": 3
   },
   "file_extension": ".py",
   "mimetype": "text/x-python",
   "name": "python",
   "nbconvert_exporter": "python",
   "pygments_lexer": "ipython3",
   "version": "3.7.9"
  }
 },
 "nbformat": 4,
 "nbformat_minor": 4
}
