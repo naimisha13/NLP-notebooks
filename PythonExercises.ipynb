{
 "cells": [
  {
   "cell_type": "markdown",
   "metadata": {},
   "source": [
    "# Python Exercises\n",
    "\n",
    "In this assignment, you will write some simple functions that work with lists and strings. My solutions are between one and seven lines of code."
   ]
  },
  {
   "cell_type": "markdown",
   "metadata": {},
   "source": [
    "## Write Your Name Here: Shreyas Yermal Lokesha \n",
    "   E-mail Id: slokesha@uncc.edu\n",
    "   Student-ID: 801210964"
   ]
  },
  {
   "cell_type": "markdown",
   "metadata": {},
   "source": [
    "# <font color=\"blue\"> Submission instructions</font>\n",
    "\n",
    "1. Click the Save button at the top of the Jupyter Notebook.\n",
    "2. Please make sure to have entered your name above.\n",
    "3. Select Cell -> All Output -> Clear. This will clear all the outputs from all cells (but will keep the content of ll cells). \n",
    "4. Select Cell -> Run All. This will run all the cells in order, and will take several minutes.\n",
    "5. Once you've rerun everything, select File -> Download as -> PDF via LaTeX and download a PDF version *distributions.pdf* showing the code and the output of all cells, and save it in the same folder that contains the notebook file *distributions.ipynb*.\n",
    "6. Look at the PDF file and make sure all your solutions are there, displayed correctly. The PDF is the only thing we will see when grading!\n",
    "7. Submit **both** your PDF and the notebook file .ipynb on Canvas."
   ]
  },
  {
   "cell_type": "markdown",
   "metadata": {},
   "source": [
    "## Working with sequences\n",
    "\n",
    "### Simple sum\n",
    "\n",
    "Write a function <tt>mysum(l)</tt> that takes as input a list <tt>l</tt> and outputs the sum of all the elements in the list. Do not use the predefined <tt>sum()</tt> function, implement it yourself."
   ]
  },
  {
   "cell_type": "code",
   "execution_count": 24,
   "metadata": {},
   "outputs": [
    {
     "data": {
      "text/plain": [
       "45"
      ]
     },
     "execution_count": 24,
     "metadata": {},
     "output_type": "execute_result"
    }
   ],
   "source": [
    "def mysum(l):\n",
    "    result = 0\n",
    "    \n",
    "    #YOUR CODE HERE\n",
    "    for i in l:\n",
    "        result+=i\n",
    "\n",
    "    return result\n",
    "\n",
    "# This call should return 45\n",
    "mysum(range(10))"
   ]
  },
  {
   "cell_type": "markdown",
   "metadata": {},
   "source": [
    "### Complex sum\n",
    "\n",
    "Write a function <tt>sum_list(l)</tt> that takes as input a list <tt>l</tt> and outputs another list <tt>q</tt> of the same length as <tt>l</tt> and that contains at position <tt>j</tt> the sum of all the elements from positions <tt>0, 1, ...j</tt>, meaning <tt>q[j] = l[0] + l[1] + ... + l[j]</tt>."
   ]
  },
  {
   "cell_type": "code",
   "execution_count": 25,
   "metadata": {},
   "outputs": [
    {
     "data": {
      "text/plain": [
       "[1, 6, 4, 7]"
      ]
     },
     "execution_count": 25,
     "metadata": {},
     "output_type": "execute_result"
    }
   ],
   "source": [
    "def sum_list(l):\n",
    "    q = []\n",
    "    \n",
    "    # YOUR CODE HERE\n",
    "    if(isinstance(l[0],int)):\n",
    "       sum = 0\n",
    "    else:\n",
    "       sum = ''\n",
    "    for i in range(0,len(l)):\n",
    "       sum = sum + l[i]\n",
    "       q.insert(i,sum)\n",
    "    return q\n",
    "\n",
    "# This call should return [1, 6, 4, 7]\n",
    "sum_list([1, 5, -2, 3])"
   ]
  },
  {
   "cell_type": "markdown",
   "metadata": {},
   "source": [
    "### Generic function\n",
    "\n",
    "Does your function <tt>sum_list(l)</tt> work with strings too? If not, change it so that the function works with **both** numbers and strings."
   ]
  },
  {
   "cell_type": "code",
   "execution_count": 26,
   "metadata": {},
   "outputs": [
    {
     "name": "stdout",
     "output_type": "stream",
     "text": [
      "['u', 'un', 'unc', 'uncc']\n",
      "[1, 6, 4, 7]\n"
     ]
    }
   ],
   "source": [
    "# This call should return ['u', 'un', 'unc', 'uncc']\n",
    "print(sum_list(['u', 'n', 'c', 'c']))\n",
    "\n",
    "# This call should return [1, 6, 4, 7]\n",
    "print(sum_list([1, 5, -2, 3]))"
   ]
  },
  {
   "cell_type": "markdown",
   "metadata": {},
   "source": [
    "### One liner (bonus points)\n",
    "\n",
    "Define a function <tt>sum_elements(l1, l2)</tt> that adds the two lists given as arguments, element-wise. Assume the two lists have the same length. You should do this with only one line of code.\n",
    "\n",
    "*Hint: use list comprehensions.*"
   ]
  },
  {
   "cell_type": "code",
   "execution_count": 27,
   "metadata": {},
   "outputs": [
    {
     "data": {
      "text/plain": [
       "[3, 5, 7, 9]"
      ]
     },
     "execution_count": 27,
     "metadata": {},
     "output_type": "execute_result"
    }
   ],
   "source": [
    "def sum_elements(l1, l2):\n",
    "    # YOUR CODE HERE\n",
    "    return [l1[i]+l2[i] for i in range(0,len(l1))]\n",
    "\n",
    "# This call should return [3, 5, 7, 9].\n",
    "sum_elements([1, 2, 3, 4], [2, 3, 4, 5])"
   ]
  },
  {
   "cell_type": "markdown",
   "metadata": {},
   "source": [
    "## Working with strings\n",
    "\n",
    "### Lines and tokens\n",
    "\n",
    "Write a function <tt>stats(s)</tt> that returns in a tuple the number of lines and the number of tokens in an input string <tt>s</tt>. For this exercise, we consider that a token is any maximal string that does not contain white spaces such as ' ' or newlines.\n",
    "\n",
    "*Hint: you can use the string methods <tt>splitlines()</tt> and <tt>split()</tt>*."
   ]
  },
  {
   "cell_type": "code",
   "execution_count": 28,
   "metadata": {},
   "outputs": [
    {
     "name": "stdout",
     "output_type": "stream",
     "text": [
      "There's a passage in the Principia Discordia where Malaclypse complains to the Goddess about the evils of human society. \"Everyone is hurting each other, the planet is rampant with injustices, whole societies plunder groups of their own people, mothers imprison sons, children perish while brothers war.\"\n",
      "\n",
      "The Goddess answers: \"What is the matter with that, if it's what you want to do?\"\n",
      "\n",
      "Malaclypse: \"But nobody wants it! Everybody hates it!\"\n",
      "\n",
      "Goddess: \"Oh. Well, then stop.\"\n",
      "https://slatestarcodex.com/2014/07/30/meditations-on-moloch/\n",
      "\n",
      "There are 8 lines and 76 tokens.\n"
     ]
    }
   ],
   "source": [
    "def stats(s):\n",
    "    clines, ctokens = 0, 0\n",
    "    \n",
    "    # YOUR CODE HERE\n",
    "    clines = len(s.splitlines())\n",
    "    ctokens = len(s.split())\n",
    "    \n",
    "    return clines, ctokens\n",
    "\n",
    "# Note how strings can be written on multiple lines in Python code.\n",
    "s = 'There\\'s a passage in the Principia Discordia where Malaclypse complains to the Goddess ' \\\n",
    "    'about the evils of human society. \"Everyone is hurting each other, the planet is rampant ' \\\n",
    "    'with injustices, whole societies plunder groups of their own people, mothers imprison sons, ' \\\n",
    "    'children perish while brothers war.\"\\n' \\\n",
    "    '\\n' \\\n",
    "    'The Goddess answers: \"What is the matter with that, if it\\'s what you want to do?\"\\n' \\\n",
    "    '\\n' \\\n",
    "    'Malaclypse: \"But nobody wants it! Everybody hates it!\"\\n' \\\n",
    "    '\\n' \\\n",
    "    'Goddess: \"Oh. Well, then stop.\"\\n' \\\n",
    "    'https://slatestarcodex.com/2014/07/30/meditations-on-moloch/'\n",
    "\n",
    "# This will display the string value.\n",
    "print(s)\n",
    "\n",
    "# This should display 8 lines and 76 tokens.\n",
    "lines, tokens = stats(s)\n",
    "print()\n",
    "print('There are', lines, 'lines and', tokens, 'tokens.')"
   ]
  },
  {
   "cell_type": "markdown",
   "metadata": {},
   "source": [
    "### Character substitutions\n",
    "\n",
    "Write a function <tt>letterize(s)</tt> that takes as input a string <tt>s</tt> and returns another string that is a copy of <tt>s</tt> where all non-alphabet characters are replaced with the whitespace character ' '.\n",
    "\n",
    "*Hint: you can use the string methods <tt>isalpha()</tt>*."
   ]
  },
  {
   "cell_type": "code",
   "execution_count": 29,
   "metadata": {},
   "outputs": [
    {
     "name": "stdout",
     "output_type": "stream",
     "text": [
      "There s a passage in the Principia Discordia where Malaclypse complains to the Goddess about the evils of human society   Everyone is hurting each other  the planet is rampant with injustices  whole societies plunder groups of their own people  mothers imprison sons  children perish while brothers war   The Goddess answers   What is the matter with that  if it s what you want to do   Malaclypse   But nobody wants it  Everybody hates it   Goddess   Oh  Well  then stop   https   slatestarcodex com            meditations on moloch  \n",
      "535\n"
     ]
    }
   ],
   "source": [
    "import re\n",
    "def letterize(s):\n",
    "    result = ''\n",
    "    \n",
    "    # YOUR CODE HERE\n",
    "    #result = result + re.sub(\"[^a-zA-Z]+\",\" \",s)\n",
    "    tokenize = s.split()\n",
    "    for x in tokenize:\n",
    "        if(x.isalpha()):\n",
    "            result = result + x + \" \"\n",
    "        else:\n",
    "            result = result + re.sub(\"[^a-zA-Z]\",\" \",x) + \" \"\n",
    "    #result = result + re.sub(\"[^a-zA-Z]+\",\" \",text) + \" \"\n",
    "    \n",
    "    return result\n",
    "s = 'There\\'s a passage in the Principia Discordia where Malaclypse complains to the Goddess ' \\\n",
    "    'about the evils of human society. \"Everyone is hurting each other, the planet is rampant ' \\\n",
    "    'with injustices, whole societies plunder groups of their own people, mothers imprison sons, ' \\\n",
    "    'children perish while brothers war.\"\\n' \\\n",
    "    '\\n' \\\n",
    "    'The Goddess answers: \"What is the matter with that, if it\\'s what you want to do?\"\\n' \\\n",
    "    '\\n' \\\n",
    "    'Malaclypse: \"But nobody wants it! Everybody hates it!\"\\n' \\\n",
    "    '\\n' \\\n",
    "    'Goddess: \"Oh. Well, then stop.\"\\n' \\\n",
    "    'https://slatestarcodex.com/2014/07/30/meditations-on-moloch/'\n",
    "r = letterize(s)\n",
    "print(r)\n",
    "\n",
    "# The length of the result should be 537.\n",
    "print(len(r))"
   ]
  },
  {
   "cell_type": "markdown",
   "metadata": {},
   "source": [
    "### Token substitutions\n",
    "\n",
    "Write a function <tt>substitute(text, source, target)</tt> that replaces each occurrence of the <tt>source</tt> string in <tt>text</tt> with the <tt>target</tt> string and returns the result."
   ]
  },
  {
   "cell_type": "code",
   "execution_count": 30,
   "metadata": {},
   "outputs": [
    {
     "name": "stdout",
     "output_type": "stream",
     "text": [
      "There's a passage in the Principia Discordia where Mazikeen complains to the Goddess about the evils of human society. \"Everyone is hurting each other, the planet is rampant with injustices, whole societies plunder groups of their own people, mothers imprison sons, children perish while brothers war.\" The Goddess answers: \"What is the matter with that, if it's what you want to do?\" Mazikeen: \"But nobody wants it! Everybody hates it!\" Goddess: \"Oh. Well, then stop.\" \n"
     ]
    }
   ],
   "source": [
    "def substitute(text, source, target):\n",
    "    result = ''\n",
    "    \n",
    "    # YOUR CODE HERE\n",
    "    tokenize = text.split()\n",
    "    for item in tokenize:\n",
    "        if(item == source):\n",
    "            result = result + target + \" \"\n",
    "        elif(item == (source + \":\")):\n",
    "            result = result + target + \":\" + \" \"\n",
    "        else:\n",
    "            result = result + item + \" \"\n",
    "            \n",
    "    return result\n",
    "\n",
    "# Note how strings can be written on multiple lines in Python code.\n",
    "text = 'There\\'s a passage in the Principia Discordia where Malaclypse complains to the Goddess ' \\\n",
    "        'about the evils of human society. \"Everyone is hurting each other, the planet is rampant ' \\\n",
    "        'with injustices, whole societies plunder groups of their own people, mothers imprison sons, ' \\\n",
    "        'children perish while brothers war.\"\\n' \\\n",
    "        '\\n' \\\n",
    "        'The Goddess answers: \"What is the matter with that, if it\\'s what you want to do?\"\\n' \\\n",
    "        '\\n' \\\n",
    "        'Malaclypse: \"But nobody wants it! Everybody hates it!\"\\n' \\\n",
    "        '\\n' \\\n",
    "        'Goddess: \"Oh. Well, then stop.\"\\n'\n",
    "print(substitute(text, 'Malaclypse', 'Mazikeen'))"
   ]
  },
  {
   "cell_type": "markdown",
   "metadata": {},
   "source": [
    "### Swapping tokens (bonus points)\n",
    "\n",
    "Write a function <tt>swap(text, source, target)</tt> that replaces each occurrence of the <tt>source</tt> string in <tt>text</tt> with the <tt>target</tt> string and each <tt>target</tt> string with the <tt>source</tt> string."
   ]
  },
  {
   "cell_type": "code",
   "execution_count": 31,
   "metadata": {},
   "outputs": [
    {
     "name": "stdout",
     "output_type": "stream",
     "text": [
      "There's a passage in the Principia Discordia where Goddess complains to the Malaclypse about the evils of human society. \"Everyone is hurting each other, the planet is rampant with injustices, whole societies plunder groups of their own people, mothers imprison sons, children perish while brothers war.\" The Malaclypse answers: \"What is the matter with that, if it's what you want to do?\" Goddess: \"But nobody wants it! Everybody hates it!\" Malaclypse: \"Oh. Well, then stop.\" \n"
     ]
    }
   ],
   "source": [
    "def swap(text, source, target):\n",
    "    result = ''\n",
    "    temp = ''\n",
    "    # YOUR CODE HERE\n",
    "    tokenize = text.split()\n",
    "    for x in tokenize:\n",
    "        if(x == source):\n",
    "            result = result + target + \" \"\n",
    "        elif(x == (source + \":\")):\n",
    "            result = result + target + \":\" + \" \"\n",
    "        elif(x == target):\n",
    "            result = result + source + \" \"\n",
    "        elif(x == (target + \":\")):\n",
    "            result = result + source + \":\" + \" \"\n",
    "        else:\n",
    "            result = result + x + \" \"\n",
    " \n",
    "    return result\n",
    "\n",
    "# Note how strings can be written on multiple lines in Python code.\n",
    "text = 'There\\'s a passage in the Principia Discordia where Malaclypse complains to the Goddess ' \\\n",
    "        'about the evils of human society. \"Everyone is hurting each other, the planet is rampant ' \\\n",
    "        'with injustices, whole societies plunder groups of their own people, mothers imprison sons, ' \\\n",
    "        'children perish while brothers war.\"\\n' \\\n",
    "        '\\n' \\\n",
    "        'The Goddess answers: \"What is the matter with that, if it\\'s what you want to do?\"\\n' \\\n",
    "        '\\n' \\\n",
    "        'Malaclypse: \"But nobody wants it! Everybody hates it!\"\\n' \\\n",
    "        '\\n' \\\n",
    "        'Goddess: \"Oh. Well, then stop.\"\\n'\n",
    "print(swap(text, 'Malaclypse', 'Goddess'))"
   ]
  },
  {
   "cell_type": "markdown",
   "metadata": {},
   "source": [
    "## Bonus points ##\n",
    "\n",
    "Write a function <tt>flatten(l)</tt> that takes as input a *deep* list that may contain other lists that may contain other lists ... and returns a *shallow* list that contains just the atmoic elements of the original list.\n"
   ]
  },
  {
   "cell_type": "code",
   "execution_count": 32,
   "metadata": {},
   "outputs": [
    {
     "name": "stdout",
     "output_type": "stream",
     "text": [
      "[1, 2, 3, 4, 5, 6, 7, 8, 9, 10, 11, 12]\n"
     ]
    }
   ],
   "source": [
    "def flatten(l):\n",
    "    result = []\n",
    "    \n",
    "    # YOUR CODE HERE\n",
    "    for item in l:\n",
    "        if(isinstance(item,list)):\n",
    "            result += flatten(item)\n",
    "        else:\n",
    "            result.append(item)\n",
    " \n",
    "    return result\n",
    "\n",
    "l = [1, [2, 3], [4, [5, 6, [7, [8, 9]]], 10], 11, 12]\n",
    "\n",
    "# This call should print [1, 2, 3, 4, 5, 6, 7, 8, 9, 10, 11, 12]\n",
    "print(flatten(l))"
   ]
  },
  {
   "cell_type": "markdown",
   "metadata": {},
   "source": [
    "Aliter Method to token substitution problem statement:"
   ]
  },
  {
   "cell_type": "code",
   "execution_count": 33,
   "metadata": {},
   "outputs": [
    {
     "name": "stdout",
     "output_type": "stream",
     "text": [
      "There's a passage in the Principia Discordia where Mazikeen complains to the Goddess about the evils of human society. \"Everyone is hurting each other, the planet is rampant with injustices, whole societies plunder groups of their own people, mothers imprison sons, children perish while brothers war.\"\n",
      "\n",
      "The Goddess answers: \"What is the matter with that, if it's what you want to do?\"\n",
      "\n",
      "Mazikeen: \"But nobody wants it! Everybody hates it!\"\n",
      "\n",
      "Goddess: \"Oh. Well, then stop.\"\n",
      " \n"
     ]
    }
   ],
   "source": [
    "import re\n",
    "def substitute(text, source, target):\n",
    "    result = ''\n",
    "    \n",
    "    # YOUR CODE HERE\n",
    "    result = result + re.sub(source,target,text) + \" \"\n",
    "            \n",
    "    return result\n",
    "\n",
    "# Note how strings can be written on multiple lines in Python code.\n",
    "text = 'There\\'s a passage in the Principia Discordia where Malaclypse complains to the Goddess ' \\\n",
    "        'about the evils of human society. \"Everyone is hurting each other, the planet is rampant ' \\\n",
    "        'with injustices, whole societies plunder groups of their own people, mothers imprison sons, ' \\\n",
    "        'children perish while brothers war.\"\\n' \\\n",
    "        '\\n' \\\n",
    "        'The Goddess answers: \"What is the matter with that, if it\\'s what you want to do?\"\\n' \\\n",
    "        '\\n' \\\n",
    "        'Malaclypse: \"But nobody wants it! Everybody hates it!\"\\n' \\\n",
    "        '\\n' \\\n",
    "        'Goddess: \"Oh. Well, then stop.\"\\n'\n",
    "print(substitute(text, 'Malaclypse', 'Mazikeen'))"
   ]
  },
  {
   "cell_type": "code",
   "execution_count": null,
   "metadata": {},
   "outputs": [],
   "source": []
  }
 ],
 "metadata": {
  "kernelspec": {
   "display_name": "Python 3 (ipykernel)",
   "language": "python",
   "name": "python3"
  },
  "language_info": {
   "codemirror_mode": {
    "name": "ipython",
    "version": 3
   },
   "file_extension": ".py",
   "mimetype": "text/x-python",
   "name": "python",
   "nbconvert_exporter": "python",
   "pygments_lexer": "ipython3",
   "version": "3.7.9"
  }
 },
 "nbformat": 4,
 "nbformat_minor": 4
}
